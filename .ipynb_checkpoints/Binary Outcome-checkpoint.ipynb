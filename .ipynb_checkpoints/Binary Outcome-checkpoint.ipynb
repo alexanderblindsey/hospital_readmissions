{
 "cells": [
  {
   "cell_type": "markdown",
   "metadata": {},
   "source": [
    "# Predicting Hospital Readmission\n",
    "\n",
    "### Introduction\n",
    "\n",
    "\n",
    "### Attributes\n",
    "- `encounter_id`: Unique identifier of an encounter.\n",
    "- `patient_nbr`: Unique identifier of a patient.\n",
    "- `race`: Caucasian, Asian, African American, Hispanic, and other.\n",
    "- `gender`: male, female, and unknown/invalid.\n",
    "- `age`: Grouped in 10-year intervals: 0, 10), 10, 20), …, 90, 100).\n",
    "- `weight`: Weight in pounds.\n",
    "- `admission_type_id`: Integer identifier corresponding to 9 distinct values, for example, emergency, urgent, elective, newborn, and not available.\n",
    "- `discharge_disposition_id`: Integer identifier corresponding to 29 distinct values, for example, discharged to home, expired, and not available.\n",
    "- `admission source_id`: Integer identifier corresponding to 21 distinct values, for example, physician referral, emergency room, and transfer from a hospital.\n",
    "- `time_in_hospital`: Integer number of days between admission and discharge.\n",
    "- `payer_code`: Integer identifier corresponding to 23 distinct values, for example, Blue Cross/Blue Shield, Medicare, and self-pay.\n",
    "- `medical_specialty`: Integer identifier of a specialty of the admitting physician, corresponding to 84 distinct values, for example, cardiology, internal medicine, family/general practice, and surgeon.\n",
    "- `num_lab_procedures`: Number of lab tests performed during the encounter.\n",
    "- `numb_procedures`: Number of procedures (other than lab tests) performed during the encounter.\n",
    "- `num_medications`: Number of distinct generic names administered during the encounter.\n",
    "- `number_outpatient`: Number of outpatient visits of the patient in the year preceding the encounter.\n",
    "- `number_emergency`: Number of emergency visits of the patient in the year preceding the encounter.\n",
    "- `number_inpatient`: Number of inpatient visits of the patient in the year preceding the encounter.\n",
    "- `diag_1`: The primary diagnosis (coded as first three digits of ICD9); 848 distinct values.\n",
    "- `diag_2`: Secondary diagnosis (coded as first three digits of ICD9); 923 distinct values.\n",
    "- `diag_3`: Additional secondary diagnosis (coded as first three digits of ICD9); 954 distinct values.\n",
    "- `number_diagnoses`: Number of diagnoses entered to the system\n",
    "- `max_glu_serum`: Indicates the range of the result or if the test was not taken. Values: “>200,” “>300,” “normal,” and “none” if not measured.\n",
    "- `A1Cresult`: Indicates the range of the result or if the test was not taken. Values: “>8” if the result was greater than 8%, “>7” if the result was greater than 7% but less than 8%, “normal” if the result was less than 7%, and “none” if not measured.\n",
    "- `change`: Indicates if there was a change in diabetic medications (either dosage or generic name). Values: “change” and “no change”.\n",
    "- `diabetesMed`: Indicates if there was any diabetic medication prescribed. Values: \"yes\" and \"no\".\n",
    "- 24 features for medications: Medications under their generic names: `metformin`, `repaglinide`, `nateglinide`, `chlorpropamide`, `glimepiride`, `acetohexamide`, `glipizide`, `glyburide`, `tolbutamide`, `pioglitazone`, `rosiglitazone`, `acarbose`, `miglitol`, `troglitazone`, `tolazamide`, `examide`, `sitagliptin`, `insulin`, `glyburide-metformin`, `glipizide-metformin`, `glimepiride-pioglitazone`, `metformin-rosiglitazone`, and `metformin- pioglitazone`. The feature indicates whether the drug was prescribed or there was a change in the dosage. _Values: up if the dosage was increased during the encounter, down if the dosage was decreased, steady if the dosage did not change, and no if the drug was not prescribed._\n",
    "- `readmitted`: Days to inpatient readmission. Values: “<30” if the patient was readmitted in less than 30 days, “>30” if the patient was readmitted in more than 30 days, and “No” for no record of readmission\n",
    "\n",
    "\n",
    "#### A note on dataset size\n",
    "\n",
    "One problem with this dataset is that there are _a lot_ of categorical attributes - one hot encoding the dataset with minimal feature engineering results in over 2,500 columns. While this may also impact model accuracy, training models with 2500 columns and over 100,000 observations is very computationally intensive and therefore impractical. "
   ]
  },
  {
   "cell_type": "markdown",
   "metadata": {},
   "source": [
    "## Imports & Read Data"
   ]
  },
  {
   "cell_type": "code",
   "execution_count": 320,
   "metadata": {},
   "outputs": [],
   "source": [
    "# imports\n",
    "import pandas as pd\n",
    "import numpy as np\n",
    "import matplotlib.pyplot as plt\n",
    "from matplotlib.gridspec import GridSpec\n",
    "import seaborn as sns\n",
    "from tqdm import tqdm\n",
    "\n",
    "from sklearn.model_selection import (train_test_split,\n",
    "                                     RandomizedSearchCV)\n",
    "from sklearn.preprocessing import StandardScaler\n",
    "from sklearn.compose import ColumnTransformer\n",
    "\n",
    "from sklearn.linear_model import LogisticRegression\n",
    "\n",
    "\n",
    "\n",
    "%matplotlib inline"
   ]
  },
  {
   "cell_type": "code",
   "execution_count": 321,
   "metadata": {},
   "outputs": [],
   "source": [
    "# # read data\n",
    "# PATH_df = r'C:\\Users\\alindsey\\Documents\\hospital_readmissions\\Data\\Raw\\diabetic_data.csv'\n",
    "# PATH_codes = r'C:\\Users\\alindsey\\Documents\\hospital_readmissions\\Data\\Raw\\IDs_mapping.csv'\n",
    "# df = pd.read_csv(PATH_df)\n",
    "# codes = pd.read_csv(PATH_codes)"
   ]
  },
  {
   "cell_type": "code",
   "execution_count": 322,
   "metadata": {},
   "outputs": [],
   "source": [
    "# # read data MAC\n",
    "df = pd.read_csv('Data/Raw/diabetic_data.csv')\n",
    "codes = pd.read_csv('Data/Raw/IDs_mapping.csv')"
   ]
  },
  {
   "cell_type": "markdown",
   "metadata": {},
   "source": [
    "## Clean Data\n",
    "\n",
    "### codes"
   ]
  },
  {
   "cell_type": "code",
   "execution_count": 323,
   "metadata": {},
   "outputs": [
    {
     "data": {
      "text/html": [
       "<div>\n",
       "<style scoped>\n",
       "    .dataframe tbody tr th:only-of-type {\n",
       "        vertical-align: middle;\n",
       "    }\n",
       "\n",
       "    .dataframe tbody tr th {\n",
       "        vertical-align: top;\n",
       "    }\n",
       "\n",
       "    .dataframe thead th {\n",
       "        text-align: right;\n",
       "    }\n",
       "</style>\n",
       "<table border=\"1\" class=\"dataframe\">\n",
       "  <thead>\n",
       "    <tr style=\"text-align: right;\">\n",
       "      <th></th>\n",
       "      <th>values</th>\n",
       "      <th>admission_source_id</th>\n",
       "      <th>admission_type_id</th>\n",
       "      <th>discharge_disposition_id</th>\n",
       "    </tr>\n",
       "  </thead>\n",
       "  <tbody>\n",
       "    <tr>\n",
       "      <th>0</th>\n",
       "      <td>1</td>\n",
       "      <td>Physician Referral</td>\n",
       "      <td>Emergency</td>\n",
       "      <td>Discharged to home</td>\n",
       "    </tr>\n",
       "    <tr>\n",
       "      <th>1</th>\n",
       "      <td>2</td>\n",
       "      <td>Clinic Referral</td>\n",
       "      <td>Urgent</td>\n",
       "      <td>Discharged/transferred to another short term h...</td>\n",
       "    </tr>\n",
       "    <tr>\n",
       "      <th>2</th>\n",
       "      <td>3</td>\n",
       "      <td>HMO Referral</td>\n",
       "      <td>Elective</td>\n",
       "      <td>Discharged/transferred to SNF</td>\n",
       "    </tr>\n",
       "    <tr>\n",
       "      <th>3</th>\n",
       "      <td>4</td>\n",
       "      <td>Transfer from a hospital</td>\n",
       "      <td>Newborn</td>\n",
       "      <td>Discharged/transferred to ICF</td>\n",
       "    </tr>\n",
       "    <tr>\n",
       "      <th>4</th>\n",
       "      <td>5</td>\n",
       "      <td>Transfer from a Skilled Nursing Facility (SNF)</td>\n",
       "      <td>Not Available</td>\n",
       "      <td>Discharged/transferred to another type of inpa...</td>\n",
       "    </tr>\n",
       "    <tr>\n",
       "      <th>5</th>\n",
       "      <td>6</td>\n",
       "      <td>Transfer from another health care facility</td>\n",
       "      <td>NULL</td>\n",
       "      <td>Discharged/transferred to home with home healt...</td>\n",
       "    </tr>\n",
       "    <tr>\n",
       "      <th>6</th>\n",
       "      <td>7</td>\n",
       "      <td>Emergency Room</td>\n",
       "      <td>Trauma Center</td>\n",
       "      <td>Left AMA</td>\n",
       "    </tr>\n",
       "    <tr>\n",
       "      <th>7</th>\n",
       "      <td>8</td>\n",
       "      <td>Court/Law Enforcement</td>\n",
       "      <td>Not Mapped</td>\n",
       "      <td>Discharged/transferred to home under care of H...</td>\n",
       "    </tr>\n",
       "    <tr>\n",
       "      <th>8</th>\n",
       "      <td>9</td>\n",
       "      <td>Not Available</td>\n",
       "      <td>NaN</td>\n",
       "      <td>Admitted as an inpatient to this hospital</td>\n",
       "    </tr>\n",
       "    <tr>\n",
       "      <th>9</th>\n",
       "      <td>10</td>\n",
       "      <td>Transfer from critial access hospital</td>\n",
       "      <td>NaN</td>\n",
       "      <td>Neonate discharged to another hospital for neo...</td>\n",
       "    </tr>\n",
       "  </tbody>\n",
       "</table>\n",
       "</div>"
      ],
      "text/plain": [
       "  values                              admission_source_id admission_type_id  \\\n",
       "0      1                               Physician Referral         Emergency   \n",
       "1      2                                  Clinic Referral            Urgent   \n",
       "2      3                                     HMO Referral          Elective   \n",
       "3      4                         Transfer from a hospital           Newborn   \n",
       "4      5   Transfer from a Skilled Nursing Facility (SNF)     Not Available   \n",
       "5      6       Transfer from another health care facility              NULL   \n",
       "6      7                                   Emergency Room     Trauma Center   \n",
       "7      8                            Court/Law Enforcement        Not Mapped   \n",
       "8      9                                    Not Available               NaN   \n",
       "9     10            Transfer from critial access hospital               NaN   \n",
       "\n",
       "                            discharge_disposition_id  \n",
       "0                                 Discharged to home  \n",
       "1  Discharged/transferred to another short term h...  \n",
       "2                      Discharged/transferred to SNF  \n",
       "3                      Discharged/transferred to ICF  \n",
       "4  Discharged/transferred to another type of inpa...  \n",
       "5  Discharged/transferred to home with home healt...  \n",
       "6                                           Left AMA  \n",
       "7  Discharged/transferred to home under care of H...  \n",
       "8          Admitted as an inpatient to this hospital  \n",
       "9  Neonate discharged to another hospital for neo...  "
      ]
     },
     "execution_count": 323,
     "metadata": {},
     "output_type": "execute_result"
    }
   ],
   "source": [
    "# clean ids_mapping.csv, imported as codes\n",
    "codes = codes[(codes['description']!='description')] \n",
    "\n",
    "# merge\n",
    "codes = pd.merge(codes.copy()[40:].rename(columns={'description':'admission_source_id',\n",
    "                                                     'admission_type_id':'values'}),\n",
    "                 (pd.merge(codes.copy()[0:8].rename(columns={'description':'admission_type_id',\n",
    "                                                             'admission_type_id':'values'}),\n",
    "                           codes.copy()[9:39].rename(columns={'description':'discharge_disposition_id',\n",
    "                                                              'admission_type_id':'values'}),\n",
    "                           how='outer',\n",
    "                           left_on='values',\n",
    "                           right_on='values')),\n",
    "                 how='outer',\n",
    "                 left_on='values',\n",
    "                 right_on='values').reset_index(drop=True)\n",
    "\n",
    "# some NAN should actually be NULL\n",
    "codes.loc[15, 'admission_source_id'] = 'NULL'\n",
    "codes.loc[5, 'admission_type_id'] = 'NULL'\n",
    "codes.loc[16, 'discharge_disposition_id'] = 'NULL'\n",
    "codes.head(10)"
   ]
  },
  {
   "cell_type": "markdown",
   "metadata": {},
   "source": [
    "### Primary df"
   ]
  },
  {
   "cell_type": "code",
   "execution_count": 324,
   "metadata": {},
   "outputs": [],
   "source": [
    "# replace ? with NaN\n",
    "df.replace('?', np.nan, inplace=True)"
   ]
  },
  {
   "cell_type": "code",
   "execution_count": 325,
   "metadata": {},
   "outputs": [],
   "source": [
    "# drop encounter_id as it is redundant\n",
    "df.drop(['encounter_id'], axis=1, inplace=True)"
   ]
  },
  {
   "cell_type": "code",
   "execution_count": 326,
   "metadata": {},
   "outputs": [
    {
     "data": {
      "text/html": [
       "<div>\n",
       "<style scoped>\n",
       "    .dataframe tbody tr th:only-of-type {\n",
       "        vertical-align: middle;\n",
       "    }\n",
       "\n",
       "    .dataframe tbody tr th {\n",
       "        vertical-align: top;\n",
       "    }\n",
       "\n",
       "    .dataframe thead th {\n",
       "        text-align: right;\n",
       "    }\n",
       "</style>\n",
       "<table border=\"1\" class=\"dataframe\">\n",
       "  <thead>\n",
       "    <tr style=\"text-align: right;\">\n",
       "      <th></th>\n",
       "      <th>patient_nbr</th>\n",
       "      <th>race</th>\n",
       "      <th>gender</th>\n",
       "      <th>age</th>\n",
       "      <th>weight</th>\n",
       "      <th>admission_type_id</th>\n",
       "      <th>discharge_disposition_id</th>\n",
       "      <th>admission_source_id</th>\n",
       "      <th>time_in_hospital</th>\n",
       "      <th>payer_code</th>\n",
       "      <th>...</th>\n",
       "      <th>citoglipton</th>\n",
       "      <th>insulin</th>\n",
       "      <th>glyburide-metformin</th>\n",
       "      <th>glipizide-metformin</th>\n",
       "      <th>glimepiride-pioglitazone</th>\n",
       "      <th>metformin-rosiglitazone</th>\n",
       "      <th>metformin-pioglitazone</th>\n",
       "      <th>change</th>\n",
       "      <th>diabetesMed</th>\n",
       "      <th>readmitted</th>\n",
       "    </tr>\n",
       "  </thead>\n",
       "  <tbody>\n",
       "    <tr>\n",
       "      <th>0</th>\n",
       "      <td>8222157</td>\n",
       "      <td>Caucasian</td>\n",
       "      <td>Female</td>\n",
       "      <td>[0-10)</td>\n",
       "      <td>NaN</td>\n",
       "      <td>6</td>\n",
       "      <td>25</td>\n",
       "      <td>1</td>\n",
       "      <td>1</td>\n",
       "      <td>NaN</td>\n",
       "      <td>...</td>\n",
       "      <td>No</td>\n",
       "      <td>No</td>\n",
       "      <td>No</td>\n",
       "      <td>No</td>\n",
       "      <td>No</td>\n",
       "      <td>No</td>\n",
       "      <td>No</td>\n",
       "      <td>No</td>\n",
       "      <td>No</td>\n",
       "      <td>NO</td>\n",
       "    </tr>\n",
       "    <tr>\n",
       "      <th>1</th>\n",
       "      <td>55629189</td>\n",
       "      <td>Caucasian</td>\n",
       "      <td>Female</td>\n",
       "      <td>[10-20)</td>\n",
       "      <td>NaN</td>\n",
       "      <td>1</td>\n",
       "      <td>1</td>\n",
       "      <td>7</td>\n",
       "      <td>3</td>\n",
       "      <td>NaN</td>\n",
       "      <td>...</td>\n",
       "      <td>No</td>\n",
       "      <td>Up</td>\n",
       "      <td>No</td>\n",
       "      <td>No</td>\n",
       "      <td>No</td>\n",
       "      <td>No</td>\n",
       "      <td>No</td>\n",
       "      <td>Ch</td>\n",
       "      <td>Yes</td>\n",
       "      <td>YES</td>\n",
       "    </tr>\n",
       "    <tr>\n",
       "      <th>2</th>\n",
       "      <td>86047875</td>\n",
       "      <td>AfricanAmerican</td>\n",
       "      <td>Female</td>\n",
       "      <td>[20-30)</td>\n",
       "      <td>NaN</td>\n",
       "      <td>1</td>\n",
       "      <td>1</td>\n",
       "      <td>7</td>\n",
       "      <td>2</td>\n",
       "      <td>NaN</td>\n",
       "      <td>...</td>\n",
       "      <td>No</td>\n",
       "      <td>No</td>\n",
       "      <td>No</td>\n",
       "      <td>No</td>\n",
       "      <td>No</td>\n",
       "      <td>No</td>\n",
       "      <td>No</td>\n",
       "      <td>No</td>\n",
       "      <td>Yes</td>\n",
       "      <td>NO</td>\n",
       "    </tr>\n",
       "    <tr>\n",
       "      <th>3</th>\n",
       "      <td>82442376</td>\n",
       "      <td>Caucasian</td>\n",
       "      <td>Male</td>\n",
       "      <td>[30-40)</td>\n",
       "      <td>NaN</td>\n",
       "      <td>1</td>\n",
       "      <td>1</td>\n",
       "      <td>7</td>\n",
       "      <td>2</td>\n",
       "      <td>NaN</td>\n",
       "      <td>...</td>\n",
       "      <td>No</td>\n",
       "      <td>Up</td>\n",
       "      <td>No</td>\n",
       "      <td>No</td>\n",
       "      <td>No</td>\n",
       "      <td>No</td>\n",
       "      <td>No</td>\n",
       "      <td>Ch</td>\n",
       "      <td>Yes</td>\n",
       "      <td>NO</td>\n",
       "    </tr>\n",
       "    <tr>\n",
       "      <th>4</th>\n",
       "      <td>42519267</td>\n",
       "      <td>Caucasian</td>\n",
       "      <td>Male</td>\n",
       "      <td>[40-50)</td>\n",
       "      <td>NaN</td>\n",
       "      <td>1</td>\n",
       "      <td>1</td>\n",
       "      <td>7</td>\n",
       "      <td>1</td>\n",
       "      <td>NaN</td>\n",
       "      <td>...</td>\n",
       "      <td>No</td>\n",
       "      <td>Steady</td>\n",
       "      <td>No</td>\n",
       "      <td>No</td>\n",
       "      <td>No</td>\n",
       "      <td>No</td>\n",
       "      <td>No</td>\n",
       "      <td>Ch</td>\n",
       "      <td>Yes</td>\n",
       "      <td>NO</td>\n",
       "    </tr>\n",
       "  </tbody>\n",
       "</table>\n",
       "<p>5 rows × 49 columns</p>\n",
       "</div>"
      ],
      "text/plain": [
       "   patient_nbr             race  gender      age weight  admission_type_id  \\\n",
       "0      8222157        Caucasian  Female   [0-10)    NaN                  6   \n",
       "1     55629189        Caucasian  Female  [10-20)    NaN                  1   \n",
       "2     86047875  AfricanAmerican  Female  [20-30)    NaN                  1   \n",
       "3     82442376        Caucasian    Male  [30-40)    NaN                  1   \n",
       "4     42519267        Caucasian    Male  [40-50)    NaN                  1   \n",
       "\n",
       "   discharge_disposition_id  admission_source_id  time_in_hospital payer_code  \\\n",
       "0                        25                    1                 1        NaN   \n",
       "1                         1                    7                 3        NaN   \n",
       "2                         1                    7                 2        NaN   \n",
       "3                         1                    7                 2        NaN   \n",
       "4                         1                    7                 1        NaN   \n",
       "\n",
       "   ... citoglipton  insulin  glyburide-metformin  glipizide-metformin  \\\n",
       "0  ...          No       No                   No                   No   \n",
       "1  ...          No       Up                   No                   No   \n",
       "2  ...          No       No                   No                   No   \n",
       "3  ...          No       Up                   No                   No   \n",
       "4  ...          No   Steady                   No                   No   \n",
       "\n",
       "   glimepiride-pioglitazone  metformin-rosiglitazone  metformin-pioglitazone  \\\n",
       "0                        No                       No                      No   \n",
       "1                        No                       No                      No   \n",
       "2                        No                       No                      No   \n",
       "3                        No                       No                      No   \n",
       "4                        No                       No                      No   \n",
       "\n",
       "  change diabetesMed readmitted  \n",
       "0     No          No         NO  \n",
       "1     Ch         Yes        YES  \n",
       "2     No         Yes         NO  \n",
       "3     Ch         Yes         NO  \n",
       "4     Ch         Yes         NO  \n",
       "\n",
       "[5 rows x 49 columns]"
      ]
     },
     "execution_count": 326,
     "metadata": {},
     "output_type": "execute_result"
    }
   ],
   "source": [
    "# make outcome variable binary\n",
    "df['readmitted'].replace({'<30':'YES', '>30':'YES'}, inplace=True)\n",
    "df.head()"
   ]
  },
  {
   "cell_type": "markdown",
   "metadata": {},
   "source": [
    "## Initial Investigation"
   ]
  },
  {
   "cell_type": "code",
   "execution_count": 327,
   "metadata": {},
   "outputs": [
    {
     "name": "stdout",
     "output_type": "stream",
     "text": [
      "<class 'pandas.core.frame.DataFrame'>\n",
      "RangeIndex: 101766 entries, 0 to 101765\n",
      "Data columns (total 49 columns):\n",
      "patient_nbr                 101766 non-null int64\n",
      "race                        99493 non-null object\n",
      "gender                      101766 non-null object\n",
      "age                         101766 non-null object\n",
      "weight                      3197 non-null object\n",
      "admission_type_id           101766 non-null int64\n",
      "discharge_disposition_id    101766 non-null int64\n",
      "admission_source_id         101766 non-null int64\n",
      "time_in_hospital            101766 non-null int64\n",
      "payer_code                  61510 non-null object\n",
      "medical_specialty           51817 non-null object\n",
      "num_lab_procedures          101766 non-null int64\n",
      "num_procedures              101766 non-null int64\n",
      "num_medications             101766 non-null int64\n",
      "number_outpatient           101766 non-null int64\n",
      "number_emergency            101766 non-null int64\n",
      "number_inpatient            101766 non-null int64\n",
      "diag_1                      101745 non-null object\n",
      "diag_2                      101408 non-null object\n",
      "diag_3                      100343 non-null object\n",
      "number_diagnoses            101766 non-null int64\n",
      "max_glu_serum               101766 non-null object\n",
      "A1Cresult                   101766 non-null object\n",
      "metformin                   101766 non-null object\n",
      "repaglinide                 101766 non-null object\n",
      "nateglinide                 101766 non-null object\n",
      "chlorpropamide              101766 non-null object\n",
      "glimepiride                 101766 non-null object\n",
      "acetohexamide               101766 non-null object\n",
      "glipizide                   101766 non-null object\n",
      "glyburide                   101766 non-null object\n",
      "tolbutamide                 101766 non-null object\n",
      "pioglitazone                101766 non-null object\n",
      "rosiglitazone               101766 non-null object\n",
      "acarbose                    101766 non-null object\n",
      "miglitol                    101766 non-null object\n",
      "troglitazone                101766 non-null object\n",
      "tolazamide                  101766 non-null object\n",
      "examide                     101766 non-null object\n",
      "citoglipton                 101766 non-null object\n",
      "insulin                     101766 non-null object\n",
      "glyburide-metformin         101766 non-null object\n",
      "glipizide-metformin         101766 non-null object\n",
      "glimepiride-pioglitazone    101766 non-null object\n",
      "metformin-rosiglitazone     101766 non-null object\n",
      "metformin-pioglitazone      101766 non-null object\n",
      "change                      101766 non-null object\n",
      "diabetesMed                 101766 non-null object\n",
      "readmitted                  101766 non-null object\n",
      "dtypes: int64(12), object(37)\n",
      "memory usage: 38.0+ MB\n"
     ]
    }
   ],
   "source": [
    "df.info()"
   ]
  },
  {
   "cell_type": "code",
   "execution_count": 328,
   "metadata": {},
   "outputs": [
    {
     "name": "stdout",
     "output_type": "stream",
     "text": [
      "Total Values = 101766\n",
      "\n",
      "Unique Values:\n",
      "patient_nbr: 71518\n",
      "race: 5\n",
      "gender: 3\n",
      "age: 10\n",
      "weight: 9\n",
      "admission_type_id: 8\n",
      "discharge_disposition_id: 26\n",
      "admission_source_id: 17\n",
      "time_in_hospital: 14\n",
      "payer_code: 17\n",
      "medical_specialty: 72\n",
      "num_lab_procedures: 118\n",
      "num_procedures: 7\n",
      "num_medications: 75\n",
      "number_outpatient: 39\n",
      "number_emergency: 33\n",
      "number_inpatient: 21\n",
      "diag_1: 716\n",
      "diag_2: 748\n",
      "diag_3: 789\n",
      "number_diagnoses: 16\n",
      "max_glu_serum: 4\n",
      "A1Cresult: 4\n",
      "metformin: 4\n",
      "repaglinide: 4\n",
      "nateglinide: 4\n",
      "chlorpropamide: 4\n",
      "glimepiride: 4\n",
      "acetohexamide: 2\n",
      "glipizide: 4\n",
      "glyburide: 4\n",
      "tolbutamide: 2\n",
      "pioglitazone: 4\n",
      "rosiglitazone: 4\n",
      "acarbose: 4\n",
      "miglitol: 4\n",
      "troglitazone: 2\n",
      "tolazamide: 3\n",
      "examide: 1\n",
      "citoglipton: 1\n",
      "insulin: 4\n",
      "glyburide-metformin: 4\n",
      "glipizide-metformin: 2\n",
      "glimepiride-pioglitazone: 2\n",
      "metformin-rosiglitazone: 2\n",
      "metformin-pioglitazone: 2\n",
      "change: 2\n",
      "diabetesMed: 2\n",
      "readmitted: 2\n"
     ]
    }
   ],
   "source": [
    "print(f'Total Values = {len(df)}\\n\\nUnique Values:')\n",
    "for c in df.columns:\n",
    "    print(f'{c}: {df[c].nunique()}')"
   ]
  },
  {
   "cell_type": "code",
   "execution_count": 329,
   "metadata": {
    "scrolled": true
   },
   "outputs": [
    {
     "data": {
      "text/html": [
       "<div>\n",
       "<style scoped>\n",
       "    .dataframe tbody tr th:only-of-type {\n",
       "        vertical-align: middle;\n",
       "    }\n",
       "\n",
       "    .dataframe tbody tr th {\n",
       "        vertical-align: top;\n",
       "    }\n",
       "\n",
       "    .dataframe thead th {\n",
       "        text-align: right;\n",
       "    }\n",
       "</style>\n",
       "<table border=\"1\" class=\"dataframe\">\n",
       "  <thead>\n",
       "    <tr style=\"text-align: right;\">\n",
       "      <th></th>\n",
       "      <th>admission_type_id</th>\n",
       "      <th>discharge_disposition_id</th>\n",
       "      <th>admission_source_id</th>\n",
       "      <th>time_in_hospital</th>\n",
       "      <th>num_lab_procedures</th>\n",
       "      <th>num_procedures</th>\n",
       "      <th>num_medications</th>\n",
       "      <th>number_outpatient</th>\n",
       "      <th>number_emergency</th>\n",
       "      <th>number_inpatient</th>\n",
       "      <th>number_diagnoses</th>\n",
       "    </tr>\n",
       "  </thead>\n",
       "  <tbody>\n",
       "    <tr>\n",
       "      <th>count</th>\n",
       "      <td>101766.00</td>\n",
       "      <td>101766.00</td>\n",
       "      <td>101766.00</td>\n",
       "      <td>101766.00</td>\n",
       "      <td>101766.00</td>\n",
       "      <td>101766.00</td>\n",
       "      <td>101766.00</td>\n",
       "      <td>101766.00</td>\n",
       "      <td>101766.00</td>\n",
       "      <td>101766.00</td>\n",
       "      <td>101766.00</td>\n",
       "    </tr>\n",
       "    <tr>\n",
       "      <th>mean</th>\n",
       "      <td>2.02</td>\n",
       "      <td>3.72</td>\n",
       "      <td>5.75</td>\n",
       "      <td>4.40</td>\n",
       "      <td>43.10</td>\n",
       "      <td>1.34</td>\n",
       "      <td>16.02</td>\n",
       "      <td>0.37</td>\n",
       "      <td>0.20</td>\n",
       "      <td>0.64</td>\n",
       "      <td>7.42</td>\n",
       "    </tr>\n",
       "    <tr>\n",
       "      <th>std</th>\n",
       "      <td>1.45</td>\n",
       "      <td>5.28</td>\n",
       "      <td>4.06</td>\n",
       "      <td>2.99</td>\n",
       "      <td>19.67</td>\n",
       "      <td>1.71</td>\n",
       "      <td>8.13</td>\n",
       "      <td>1.27</td>\n",
       "      <td>0.93</td>\n",
       "      <td>1.26</td>\n",
       "      <td>1.93</td>\n",
       "    </tr>\n",
       "    <tr>\n",
       "      <th>min</th>\n",
       "      <td>1.00</td>\n",
       "      <td>1.00</td>\n",
       "      <td>1.00</td>\n",
       "      <td>1.00</td>\n",
       "      <td>1.00</td>\n",
       "      <td>0.00</td>\n",
       "      <td>1.00</td>\n",
       "      <td>0.00</td>\n",
       "      <td>0.00</td>\n",
       "      <td>0.00</td>\n",
       "      <td>1.00</td>\n",
       "    </tr>\n",
       "    <tr>\n",
       "      <th>25%</th>\n",
       "      <td>1.00</td>\n",
       "      <td>1.00</td>\n",
       "      <td>1.00</td>\n",
       "      <td>2.00</td>\n",
       "      <td>31.00</td>\n",
       "      <td>0.00</td>\n",
       "      <td>10.00</td>\n",
       "      <td>0.00</td>\n",
       "      <td>0.00</td>\n",
       "      <td>0.00</td>\n",
       "      <td>6.00</td>\n",
       "    </tr>\n",
       "    <tr>\n",
       "      <th>50%</th>\n",
       "      <td>1.00</td>\n",
       "      <td>1.00</td>\n",
       "      <td>7.00</td>\n",
       "      <td>4.00</td>\n",
       "      <td>44.00</td>\n",
       "      <td>1.00</td>\n",
       "      <td>15.00</td>\n",
       "      <td>0.00</td>\n",
       "      <td>0.00</td>\n",
       "      <td>0.00</td>\n",
       "      <td>8.00</td>\n",
       "    </tr>\n",
       "    <tr>\n",
       "      <th>75%</th>\n",
       "      <td>3.00</td>\n",
       "      <td>4.00</td>\n",
       "      <td>7.00</td>\n",
       "      <td>6.00</td>\n",
       "      <td>57.00</td>\n",
       "      <td>2.00</td>\n",
       "      <td>20.00</td>\n",
       "      <td>0.00</td>\n",
       "      <td>0.00</td>\n",
       "      <td>1.00</td>\n",
       "      <td>9.00</td>\n",
       "    </tr>\n",
       "    <tr>\n",
       "      <th>max</th>\n",
       "      <td>8.00</td>\n",
       "      <td>28.00</td>\n",
       "      <td>25.00</td>\n",
       "      <td>14.00</td>\n",
       "      <td>132.00</td>\n",
       "      <td>6.00</td>\n",
       "      <td>81.00</td>\n",
       "      <td>42.00</td>\n",
       "      <td>76.00</td>\n",
       "      <td>21.00</td>\n",
       "      <td>16.00</td>\n",
       "    </tr>\n",
       "  </tbody>\n",
       "</table>\n",
       "</div>"
      ],
      "text/plain": [
       "       admission_type_id  discharge_disposition_id  admission_source_id  \\\n",
       "count          101766.00                 101766.00            101766.00   \n",
       "mean                2.02                      3.72                 5.75   \n",
       "std                 1.45                      5.28                 4.06   \n",
       "min                 1.00                      1.00                 1.00   \n",
       "25%                 1.00                      1.00                 1.00   \n",
       "50%                 1.00                      1.00                 7.00   \n",
       "75%                 3.00                      4.00                 7.00   \n",
       "max                 8.00                     28.00                25.00   \n",
       "\n",
       "       time_in_hospital  num_lab_procedures  num_procedures  num_medications  \\\n",
       "count         101766.00           101766.00       101766.00        101766.00   \n",
       "mean               4.40               43.10            1.34            16.02   \n",
       "std                2.99               19.67            1.71             8.13   \n",
       "min                1.00                1.00            0.00             1.00   \n",
       "25%                2.00               31.00            0.00            10.00   \n",
       "50%                4.00               44.00            1.00            15.00   \n",
       "75%                6.00               57.00            2.00            20.00   \n",
       "max               14.00              132.00            6.00            81.00   \n",
       "\n",
       "       number_outpatient  number_emergency  number_inpatient  number_diagnoses  \n",
       "count          101766.00         101766.00         101766.00         101766.00  \n",
       "mean                0.37              0.20              0.64              7.42  \n",
       "std                 1.27              0.93              1.26              1.93  \n",
       "min                 0.00              0.00              0.00              1.00  \n",
       "25%                 0.00              0.00              0.00              6.00  \n",
       "50%                 0.00              0.00              0.00              8.00  \n",
       "75%                 0.00              0.00              1.00              9.00  \n",
       "max                42.00             76.00             21.00             16.00  "
      ]
     },
     "execution_count": 329,
     "metadata": {},
     "output_type": "execute_result"
    }
   ],
   "source": [
    "pd.options.display.float_format = \"{:.2f}\".format # two decimal places\n",
    "df.drop(['patient_nbr'], axis=1).describe()"
   ]
  },
  {
   "cell_type": "markdown",
   "metadata": {},
   "source": [
    "## Unique Patients\n",
    "\n",
    "The dataset contains 101,766 observations of 71,518 patients, meaning some patients went into the hospital multiple times. Intuitively, for each of these patients, every observation except for the observation with the maximum index value (i.e., the last observation for that patient in the dataframe) is readmitted. \n",
    "\n",
    "Because every patient with multiple observations must have been readmitted, and because having multiple of the same patient in introduces may result in bias towards those with multiple observations, all but the first  observation is dropped for each non-unique patient.\n",
    "\n",
    "As a result, the dataframe drops to 71,518 observations, each being a unique patient."
   ]
  },
  {
   "cell_type": "code",
   "execution_count": 330,
   "metadata": {},
   "outputs": [],
   "source": [
    "df.drop_duplicates(subset= ['patient_nbr'], keep = 'first', inplace=True)\n",
    "df.drop(['patient_nbr'], axis=1, inplace=True) # becomes redundant"
   ]
  },
  {
   "cell_type": "code",
   "execution_count": 331,
   "metadata": {},
   "outputs": [
    {
     "data": {
      "text/plain": [
       "(71518, 48)"
      ]
     },
     "execution_count": 331,
     "metadata": {},
     "output_type": "execute_result"
    }
   ],
   "source": [
    "df.shape"
   ]
  },
  {
   "cell_type": "markdown",
   "metadata": {},
   "source": [
    "### Missing Values"
   ]
  },
  {
   "cell_type": "code",
   "execution_count": 332,
   "metadata": {},
   "outputs": [
    {
     "data": {
      "image/png": "[encoded data removed]",
      "text/plain": [
       "<Figure size 936x216 with 1 Axes>"
      ]
     },
     "metadata": {
      "needs_background": "light"
     },
     "output_type": "display_data"
    }
   ],
   "source": [
    "fig, ax = plt.subplots(figsize=(13, 3))\n",
    "\n",
    "sns.barplot(x=df.isnull().sum()[df.isnull().sum()>0],\n",
    "            y=df.columns[df.isna().any()].tolist(),\n",
    "            orient='h')\n",
    "\n",
    "plt.title('Fig 1: Missing Values', size=20);"
   ]
  },
  {
   "cell_type": "markdown",
   "metadata": {},
   "source": [
    "## Impute Missing Values"
   ]
  },
  {
   "cell_type": "code",
   "execution_count": 333,
   "metadata": {},
   "outputs": [],
   "source": [
    "df.rename(columns={'diag_1':'diagnosis'}, inplace=True)"
   ]
  },
  {
   "cell_type": "code",
   "execution_count": 334,
   "metadata": {
    "scrolled": false
   },
   "outputs": [
    {
     "name": "stderr",
     "output_type": "stream",
     "text": [
      "100%|██████████| 71518/71518 [00:01<00:00, 65788.41it/s]\n"
     ]
    }
   ],
   "source": [
    "max_race = df['race'].value_counts().idxmax()\n",
    "max_diag = df['diagnosis'].value_counts().idxmax()\n",
    "\n",
    "for i in tqdm(df.index):\n",
    "    current_race = df.at[i, 'race']\n",
    "    current_diag = df.at[i, 'diagnosis']\n",
    "    \n",
    "    if pd.isnull(current_race) == True:\n",
    "        df.at[i, 'race'] = max_race\n",
    "\n",
    "    if pd.isnull(current_diag) == True:\n",
    "        df.at[i, 'diagnosis'] = max_diag"
   ]
  },
  {
   "cell_type": "markdown",
   "metadata": {},
   "source": [
    "#### Drop Columns\n",
    "\n",
    "Over 90% of `weight` is missing, so it is dropped from the dataset. `payer_code`, `medical_specialty` are both dropped as nearly 50% are missing. \n",
    "\n",
    "`diag_2` and `diag_3` are dropped as `diag_1` is already included and they are categorical variables with many unique values, drastically increasing the size of the one hot encoded dataframe. \n",
    "\n",
    "Various drug attributes are dropped as well. This is because these attributes have no variation."
   ]
  },
  {
   "cell_type": "code",
   "execution_count": 335,
   "metadata": {},
   "outputs": [
    {
     "name": "stdout",
     "output_type": "stream",
     "text": [
      "examide\n",
      "citoglipton\n",
      "glimepiride-pioglitazone\n"
     ]
    }
   ],
   "source": [
    "for c in df.columns:\n",
    "    if df[c].value_counts().nunique()<2:\n",
    "        print(c)"
   ]
  },
  {
   "cell_type": "code",
   "execution_count": 336,
   "metadata": {},
   "outputs": [],
   "source": [
    "cols_to_drop = ['weight',\n",
    "                'payer_code',\n",
    "                'medical_specialty',\n",
    "                'diag_2',\n",
    "                'diag_3',\n",
    "                'examide',\n",
    "                'glimepiride-pioglitazone',\n",
    "                'citoglipton'] # ,\n",
    "#                 'metformin-pioglitazone',\n",
    "#                 'metformin-rosiglitazone',\n",
    "#                 'tolazamide',\n",
    "#                 'troglitazone',\n",
    "#                 'miglitol',\n",
    "#                 'acarbose',\n",
    "#                 'acetohexamide',\n",
    "#                 'chlorpropamide',\n",
    "#                 'glipizide-metformin']\n",
    "\n",
    "df.drop(cols_to_drop, axis=1, inplace=True)"
   ]
  },
  {
   "cell_type": "markdown",
   "metadata": {},
   "source": [
    "## Categorization of Diagnoses\n",
    "\n",
    "There are hundreds of different diagnoses here. The broad categories are available [here](https://en.wikipedia.org/wiki/List_of_ICD-9_codes). "
   ]
  },
  {
   "cell_type": "code",
   "execution_count": 337,
   "metadata": {},
   "outputs": [],
   "source": [
    "for i in df.index:\n",
    "    d = df.at[i, 'diagnosis']\n",
    "    \n",
    "    try:\n",
    "        d = float(df.at[i, 'diagnosis'])\n",
    "        \n",
    "    except ValueError:\n",
    "        df.at[i, 'diagnosis'] = 'other'\n",
    "    \n",
    "    else:\n",
    "        if d>=1 and d<=139:\n",
    "            df.at[i, 'diagnosis'] = 'infections/parasitic'\n",
    "        elif d>=140 and d<=239:\n",
    "            df.at[i, 'diagnosis'] = 'neoplasms'\n",
    "        elif d>=240 and d<=279:\n",
    "            df.at[i, 'diagnosis'] = 'endocrine/nutrition/immunity'\n",
    "        elif d>= 280 and d<=289:\n",
    "            df.at[i, 'diagnosis'] = 'blood'\n",
    "        elif d>=290 and d<=319:\n",
    "            df.at[i, 'diagnosis'] = 'mental disorders'\n",
    "        elif d>=320 and d<=329:\n",
    "            df.at[i, 'diagnosis'] = 'nervous system'\n",
    "        elif d>=390 and d<=459:\n",
    "            df.at[i, 'diagnosis'] = 'circulatory'\n",
    "        elif d>=460 and d<=519:\n",
    "            df.at[i, 'diagnosis'] = 'respiratory'\n",
    "        elif d>=520 and d<=579:\n",
    "            df.at[i, 'diagnosis'] = 'digestive'\n",
    "        elif d>=580 and d<=629:\n",
    "            df.at[i, 'diagnosis'] = 'genitourinary'\n",
    "        elif d>=630 and d<=679:\n",
    "            df.at[i, 'diagnosis'] = 'pregnancy/childbirth'\n",
    "        elif d>=680 and d<=709:\n",
    "            df.at[i, 'diagnosis'] = 'skin/subcutaneous tissue'\n",
    "        elif d>=710 and d<=739:\n",
    "            df.at[i, 'diagnosis'] = 'musculoskeletal'\n",
    "        elif d>=740 and d<=759:\n",
    "            df.at[i, 'diagnosis'] = 'congenital anomalies'\n",
    "        elif d>=760 and d<=779:\n",
    "            df.at[i, 'diagnosis'] = 'perinatal'\n",
    "        elif d>=780 and d<=799:\n",
    "            df.at[i, 'diagnosis'] = 'ill-defined'\n",
    "        else:\n",
    "            df.at[i, 'diagnosis'] = 'injury/poisoning'"
   ]
  },
  {
   "cell_type": "markdown",
   "metadata": {},
   "source": [
    "## Exploratory Analysis\n",
    "\n",
    "### Readmitted - Variable of Interest"
   ]
  },
  {
   "cell_type": "code",
   "execution_count": 338,
   "metadata": {},
   "outputs": [
    {
     "data": {
      "image/png": "[encoded data removed]",
      "text/plain": [
       "<Figure size 936x216 with 1 Axes>"
      ]
     },
     "metadata": {
      "needs_background": "light"
     },
     "output_type": "display_data"
    }
   ],
   "source": [
    "fig, ax = plt.subplots(figsize=(13, 3))\n",
    "\n",
    "sns.countplot(y='readmitted', data=df)\n",
    "plt.title('Fig 2: Readmissions Breakdown', size=20)\n",
    "plt.xlabel('Count', size=12)\n",
    "plt.ylabel('Readmitted', size=12);"
   ]
  },
  {
   "cell_type": "markdown",
   "metadata": {},
   "source": [
    "### Non-Drug Features vs. Readmission (Non-Drugs)"
   ]
  },
  {
   "cell_type": "code",
   "execution_count": 339,
   "metadata": {},
   "outputs": [
    {
     "data": {
      "image/png": "[encoded data removed]",
      "text/plain": [
       "<Figure size 1080x1944 with 19 Axes>"
      ]
     },
     "metadata": {
      "needs_background": "light"
     },
     "output_type": "display_data"
    }
   ],
   "source": [
    "columns = ['gender',\n",
    "           'diabetesMed',\n",
    "           'admission_type_id',\n",
    "           'admission_source_id',\n",
    "           'time_in_hospital',\n",
    "           'num_procedures',\n",
    "           'number_inpatient',\n",
    "           'max_glu_serum',\n",
    "           'A1Cresult',\n",
    "           'change',\n",
    "           'age',\n",
    "           'discharge_disposition_id',\n",
    "           'number_outpatient',\n",
    "           'race',           \n",
    "           'num_medications',\n",
    "           'number_emergency',\n",
    "           'number_diagnoses',\n",
    "           'num_lab_procedures',\n",
    "           'diagnosis']\n",
    "\n",
    "def print_countplots(fig, columns, hue=df['readmitted'], tight=[], df=df, col_pos=0):\n",
    "    for i, ax in enumerate(fig.axes):\n",
    "        sns.countplot(x=df[columns[col_pos]], hue=hue, ax=ax)\n",
    "        ax.get_legend().remove()\n",
    "        ax.set_ylabel('')\n",
    "\n",
    "        if df[columns[col_pos]].name == 'diagnosis':\n",
    "            _ = plt.xticks(rotation=90)\n",
    "            \n",
    "        if df[columns[col_pos]].name in tight:\n",
    "            n=3\n",
    "            [l.set_visible(False) for (i,l) in enumerate(ax.xaxis.get_ticklabels()) if i % n != 0]\n",
    "            \n",
    "        if ax == ax0:\n",
    "            ax.legend(loc='center left', bbox_to_anchor=(1, 0.5))\n",
    "        \n",
    "        col_pos += 1\n",
    "\n",
    "fig = plt.figure(constrained_layout=True, figsize=(15, 27))\n",
    "gs = GridSpec(15, 2, figure=fig)\n",
    "\n",
    "ax0 = fig.add_subplot(gs[0, 1:])\n",
    "ax0_ = fig.add_subplot(gs[0, :1])\n",
    "ax1 = fig.add_subplot(gs[1, 1:])\n",
    "ax1_ = fig.add_subplot(gs[1, :1])\n",
    "ax2 = fig.add_subplot(gs[2, 1:])\n",
    "ax2_ = fig.add_subplot(gs[2, :1])\n",
    "ax3 = fig.add_subplot(gs[3, 1:])\n",
    "ax3_ = fig.add_subplot(gs[3, :1])\n",
    "ax4 = fig.add_subplot(gs[4, :])\n",
    "ax5 = fig.add_subplot(gs[5, :])\n",
    "ax6 = fig.add_subplot(gs[6, :])\n",
    "ax7 = fig.add_subplot(gs[7, :])\n",
    "ax8 = fig.add_subplot(gs[8, :])\n",
    "ax9 = fig.add_subplot(gs[9, :])\n",
    "ax10 = fig.add_subplot(gs[10, :])\n",
    "ax11 = fig.add_subplot(gs[11, :])\n",
    "ax12 = fig.add_subplot(gs[12, :])\n",
    "ax13 = fig.add_subplot(gs[13, :])\n",
    "ax14 = fig.add_subplot(gs[14, :])\n",
    "\n",
    "\n",
    "print_countplots(fig=fig, columns=columns, tight=['num_medications',\n",
    "                                                  'num_lab_procedures'])\n",
    "fig.suptitle(\"Fig 3: Readmitted vs. Non-Drug Attributes\", size=20);"
   ]
  },
  {
   "cell_type": "code",
   "execution_count": 340,
   "metadata": {},
   "outputs": [
    {
     "data": {
      "image/png": "[encoded data removed]",
      "text/plain": [
       "<Figure size 1080x1440 with 20 Axes>"
      ]
     },
     "metadata": {
      "needs_background": "light"
     },
     "output_type": "display_data"
    }
   ],
   "source": [
    "drug_cols = [col for col in df.columns.drop(['readmitted']) if col not in columns]\n",
    "\n",
    "fig = plt.figure(constrained_layout=True, figsize=(15, 20))\n",
    "gs = GridSpec(10, 2, figure=fig)\n",
    "\n",
    "ax0 = fig.add_subplot(gs[0, 1:])\n",
    "ax0_ = fig.add_subplot(gs[0, :1])\n",
    "ax1 = fig.add_subplot(gs[1, 1:])\n",
    "ax1_ = fig.add_subplot(gs[1, :1])\n",
    "ax2 = fig.add_subplot(gs[2, 1:])\n",
    "ax2_ = fig.add_subplot(gs[2, :1])\n",
    "ax3 = fig.add_subplot(gs[3, 1:])\n",
    "ax3_ = fig.add_subplot(gs[3, :1])\n",
    "ax4 = fig.add_subplot(gs[4, 1:])\n",
    "ax4_ = fig.add_subplot(gs[4, :1])\n",
    "ax5 = fig.add_subplot(gs[5, 1:])\n",
    "ax5_ = fig.add_subplot(gs[5, :1])\n",
    "ax6 = fig.add_subplot(gs[6, 1:])\n",
    "ax6_ = fig.add_subplot(gs[6, :1])\n",
    "ax7 = fig.add_subplot(gs[7, 1:])\n",
    "ax7_ = fig.add_subplot(gs[7, :1])\n",
    "ax8 = fig.add_subplot(gs[8, 1:])\n",
    "ax8_ = fig.add_subplot(gs[8, :1])\n",
    "ax9 = fig.add_subplot(gs[9, 1:])\n",
    "ax9_ = fig.add_subplot(gs[9, :1])\n",
    "\n",
    "print_countplots(fig=fig,\n",
    "                 columns=drug_cols,\n",
    "                 hue=df['readmitted'])\n",
    "fig.suptitle(\"Fig 4: Readmission vs. Drug Attributes\", size=20);"
   ]
  },
  {
   "cell_type": "markdown",
   "metadata": {},
   "source": [
    "# Feature Engineering\n",
    "## Drugs\n",
    "\n",
    "In an effort to reduce dimensionality, changes in prescribed drug dosages are used instead. A composite metric, `drug_changes` is created. For each prescribed change in the dosage of a drug, whether it be increased or decreased, this metric increases by 1. Otherwise, it is not increased (i.e., someone with no changes in their prescribed drug dosages would have a `drug_changes` of 0)."
   ]
  },
  {
   "cell_type": "code",
   "execution_count": 341,
   "metadata": {},
   "outputs": [
    {
     "name": "stderr",
     "output_type": "stream",
     "text": [
      "100%|██████████| 71518/71518 [00:20<00:00, 3572.00it/s]\n"
     ]
    }
   ],
   "source": [
    "df['drug_changes'] = 0\n",
    "\n",
    "for i in tqdm(df.index):\n",
    "    for c in drug_cols:\n",
    "        if df.at[i, c] == 'Up':\n",
    "            df.at[i, 'drug_changes'] = df.at[i, 'drug_changes'] + 1\n",
    "        elif df.at[i, c] == 'Down':\n",
    "            df.at[i, 'drug_changes'] = df.at[i, 'drug_changes'] + 1"
   ]
  },
  {
   "cell_type": "code",
   "execution_count": 342,
   "metadata": {},
   "outputs": [],
   "source": [
    "# drop drug columns\n",
    "df.drop(drug_cols, axis=1, inplace=True)"
   ]
  },
  {
   "cell_type": "code",
   "execution_count": 343,
   "metadata": {},
   "outputs": [
    {
     "data": {
      "image/png": "[encoded data removed]",
      "text/plain": [
       "<Figure size 1080x360 with 1 Axes>"
      ]
     },
     "metadata": {
      "needs_background": "light"
     },
     "output_type": "display_data"
    }
   ],
   "source": [
    "fig, ax = plt.subplots(figsize=(15, 5))\n",
    "sns.countplot(x=df['drug_changes'], hue=df['readmitted'])\n",
    "ax.legend(loc='center left', bbox_to_anchor=(1, 0.5))\n",
    "plt.title('Fig 5: Number of changes in Prescribed Drug Amounts vs. Readmitted', size=20);"
   ]
  },
  {
   "cell_type": "code",
   "execution_count": null,
   "metadata": {},
   "outputs": [],
   "source": []
  },
  {
   "cell_type": "code",
   "execution_count": null,
   "metadata": {},
   "outputs": [],
   "source": []
  },
  {
   "cell_type": "code",
   "execution_count": null,
   "metadata": {},
   "outputs": [],
   "source": []
  },
  {
   "cell_type": "code",
   "execution_count": null,
   "metadata": {},
   "outputs": [],
   "source": []
  },
  {
   "cell_type": "code",
   "execution_count": 344,
   "metadata": {},
   "outputs": [],
   "source": [
    "# df['admission_type_id'] = df['admission_type_id'].replace(2,1)\n",
    "# df['admission_type_id'] = df['admission_type_id'].replace(7,1)\n",
    "# df['admission_type_id'] = df['admission_type_id'].replace(6,5)\n",
    "# df['admission_type_id'] = df['admission_type_id'].replace(8,5)\n",
    "\n",
    "# df['discharge_disposition_id'] = df['discharge_disposition_id'].replace(6,1)\n",
    "# df['discharge_disposition_id'] = df['discharge_disposition_id'].replace(8,1)\n",
    "# df['discharge_disposition_id'] = df['discharge_disposition_id'].replace(9,1)\n",
    "# df['discharge_disposition_id'] = df['discharge_disposition_id'].replace(13,1)\n",
    "# df['discharge_disposition_id'] = df['discharge_disposition_id'].replace(3,2)\n",
    "# df['discharge_disposition_id'] = df['discharge_disposition_id'].replace(4,2)\n",
    "# df['discharge_disposition_id'] = df['discharge_disposition_id'].replace(5,2)\n",
    "# df['discharge_disposition_id'] = df['discharge_disposition_id'].replace(14,2)\n",
    "# df['discharge_disposition_id'] = df['discharge_disposition_id'].replace(22,2)\n",
    "# df['discharge_disposition_id'] = df['discharge_disposition_id'].replace(23,2)\n",
    "# df['discharge_disposition_id'] = df['discharge_disposition_id'].replace(24,2)\n",
    "# df['discharge_disposition_id'] = df['discharge_disposition_id'].replace(12,10)\n",
    "# df['discharge_disposition_id'] = df['discharge_disposition_id'].replace(15,10)\n",
    "# df['discharge_disposition_id'] = df['discharge_disposition_id'].replace(16,10)\n",
    "# df['discharge_disposition_id'] = df['discharge_disposition_id'].replace(17,10)\n",
    "# df['discharge_disposition_id'] = df['discharge_disposition_id'].replace(25,18)\n",
    "# df['discharge_disposition_id'] = df['discharge_disposition_id'].replace(26,18)\n",
    "\n",
    "# df['admission_source_id'] = df['admission_source_id'].replace(2,1)\n",
    "# df['admission_source_id'] = df['admission_source_id'].replace(3,1)\n",
    "# df['admission_source_id'] = df['admission_source_id'].replace(5,4)\n",
    "# df['admission_source_id'] = df['admission_source_id'].replace(6,4)\n",
    "# df['admission_source_id'] = df['admission_source_id'].replace(10,4)\n",
    "# df['admission_source_id'] = df['admission_source_id'].replace(22,4)\n",
    "# df['admission_source_id'] = df['admission_source_id'].replace(25,4)\n",
    "# df['admission_source_id'] = df['admission_source_id'].replace(15,9)\n",
    "# df['admission_source_id'] = df['admission_source_id'].replace(17,9)\n",
    "# df['admission_source_id'] = df['admission_source_id'].replace(20,9)\n",
    "# df['admission_source_id'] = df['admission_source_id'].replace(21,9)\n",
    "# df['admission_source_id'] = df['admission_source_id'].replace(13,11)\n",
    "# df['admission_source_id'] = df['admission_source_id'].replace(14,11)"
   ]
  },
  {
   "cell_type": "code",
   "execution_count": null,
   "metadata": {},
   "outputs": [],
   "source": []
  },
  {
   "cell_type": "code",
   "execution_count": null,
   "metadata": {},
   "outputs": [],
   "source": []
  },
  {
   "cell_type": "code",
   "execution_count": null,
   "metadata": {},
   "outputs": [],
   "source": []
  },
  {
   "cell_type": "code",
   "execution_count": null,
   "metadata": {},
   "outputs": [],
   "source": []
  },
  {
   "cell_type": "code",
   "execution_count": null,
   "metadata": {},
   "outputs": [],
   "source": []
  },
  {
   "cell_type": "code",
   "execution_count": null,
   "metadata": {},
   "outputs": [],
   "source": []
  },
  {
   "cell_type": "code",
   "execution_count": null,
   "metadata": {},
   "outputs": [],
   "source": []
  },
  {
   "cell_type": "code",
   "execution_count": null,
   "metadata": {},
   "outputs": [],
   "source": []
  },
  {
   "cell_type": "markdown",
   "metadata": {},
   "source": [
    "# Encode Categorical Attributes"
   ]
  },
  {
   "cell_type": "code",
   "execution_count": 345,
   "metadata": {},
   "outputs": [],
   "source": [
    "# find categorical and continuous columns\n",
    "continuous_cols = []\n",
    "categorical_cols = []\n",
    "for c in df.columns:\n",
    "    if df[c].dtype=='int64':\n",
    "        if 'id' not in c:\n",
    "            continuous_cols.append(c)\n",
    "        else:\n",
    "            categorical_cols.append(c)\n",
    "    else:\n",
    "        categorical_cols.append(c)"
   ]
  },
  {
   "cell_type": "code",
   "execution_count": 346,
   "metadata": {},
   "outputs": [],
   "source": [
    "df_ohe = pd.get_dummies(data=df, columns=categorical_cols, drop_first=True)"
   ]
  },
  {
   "cell_type": "code",
   "execution_count": 347,
   "metadata": {},
   "outputs": [
    {
     "data": {
      "text/plain": [
       "(71518, 66)"
      ]
     },
     "execution_count": 347,
     "metadata": {},
     "output_type": "execute_result"
    }
   ],
   "source": [
    "df_ohe.shape"
   ]
  },
  {
   "cell_type": "code",
   "execution_count": 349,
   "metadata": {},
   "outputs": [],
   "source": [
    "# def corr_plot(df, title='Correlation Plot', figsize=(25, 10), max_cols=20):\n",
    "#     \"\"\"\n",
    "#     Prints correlation plot. If number of columns > max_cols then annotations are turned off. \n",
    "#     \"\"\"\n",
    "  \n",
    "#     plt.style.use('seaborn-whitegrid')\n",
    "#     fig = plt.figure(figsize=figsize)\n",
    "#     mask = np.zeros_like(df.corr(), dtype=np.bool)\n",
    "#     mask[np.triu_indices_from(mask)] = True\n",
    "    \n",
    "#     # if too many columns, plot gets messy because of in-box annotations\n",
    "#     if len(df.columns)>max_cols:\n",
    "#         annot = False\n",
    "#     else:\n",
    "#         annot = True   \n",
    "    \n",
    "#     sns.heatmap(df.corr(),\n",
    "#                 annot=annot,\n",
    "#                 vmin=-1, vmax=1,\n",
    "#                 square=True, \n",
    "#                 cmap=sns.color_palette('RdBu_r', 100),\n",
    "#                 mask=mask,\n",
    "#                 linewidths=0.5)\n",
    "#     # title\n",
    "#     plt.title(title, size=20)\n",
    "\n",
    "# corr_plot(df_ohe)"
   ]
  },
  {
   "cell_type": "markdown",
   "metadata": {},
   "source": [
    "# Splitting - Train & Test"
   ]
  },
  {
   "cell_type": "code",
   "execution_count": null,
   "metadata": {},
   "outputs": [],
   "source": [
    "X_train, X_test, y_train, y_test = train_test_split(df_ohe.drop(['readmitted_YES'], axis=1), \n",
    "                                                    df_ohe['readmitted_YES'],\n",
    "                                                    train_size=.75,\n",
    "                                                    shuffle=True,\n",
    "                                                    random_state=1)"
   ]
  },
  {
   "cell_type": "markdown",
   "metadata": {},
   "source": [
    "# Scaling"
   ]
  },
  {
   "cell_type": "code",
   "execution_count": null,
   "metadata": {
    "hide_input": false
   },
   "outputs": [],
   "source": [
    "ct = ColumnTransformer(transformers=[('scaler', StandardScaler(), continuous_cols)],\n",
    "                       remainder='passthrough')"
   ]
  },
  {
   "cell_type": "code",
   "execution_count": null,
   "metadata": {},
   "outputs": [],
   "source": [
    "X_train = pd.DataFrame(ct.fit_transform(X_train),\n",
    "                       columns=X_train.columns)\n",
    "X_train.head()"
   ]
  },
  {
   "cell_type": "markdown",
   "metadata": {},
   "source": [
    "# Analysis"
   ]
  },
  {
   "cell_type": "code",
   "execution_count": null,
   "metadata": {},
   "outputs": [],
   "source": [
    "scores = {} # create empty dict to store models and cross validation best scores\n",
    "\n",
    "def results(estimator):\n",
    "    \"\"\"\n",
    "    1. Adds fitted model and best score from RandomizedSearchCV to scores dictionary.\n",
    "    2. Prints fitted model best parameters and best score\n",
    "    \"\"\"\n",
    "    scores[estimator] = estimator.best_score_ # add fitted model and .best_score_ to models dictionary\n",
    "    return f'Best params: {estimator.best_params_}'+ f'\\nBest estimator score: {estimator.best_score_}'"
   ]
  },
  {
   "cell_type": "code",
   "execution_count": null,
   "metadata": {
    "scrolled": true
   },
   "outputs": [],
   "source": [
    "# # Logistic Regression, no regularization\n",
    "# params = {'C':list(range(1, 10))}\n",
    "# logistic = RandomizedSearchCV(LogisticRegression(penalty='none',\n",
    "#                                                  solver='lbfgs'), \n",
    "#                               param_distributions=params, \n",
    "#                               n_jobs=-1, \n",
    "#                               cv=5,\n",
    "#                               verbose=1)\n",
    "# logistic.fit(X_train, y_train)\n",
    "# results(logistic)"
   ]
  },
  {
   "cell_type": "code",
   "execution_count": null,
   "metadata": {
    "scrolled": true
   },
   "outputs": [],
   "source": []
  },
  {
   "cell_type": "code",
   "execution_count": null,
   "metadata": {},
   "outputs": [],
   "source": []
  },
  {
   "cell_type": "code",
   "execution_count": null,
   "metadata": {},
   "outputs": [],
   "source": []
  },
  {
   "cell_type": "code",
   "execution_count": null,
   "metadata": {},
   "outputs": [],
   "source": []
  },
  {
   "cell_type": "code",
   "execution_count": null,
   "metadata": {},
   "outputs": [],
   "source": []
  },
  {
   "cell_type": "code",
   "execution_count": null,
   "metadata": {},
   "outputs": [],
   "source": []
  },
  {
   "cell_type": "code",
   "execution_count": null,
   "metadata": {
    "scrolled": true
   },
   "outputs": [],
   "source": []
  },
  {
   "cell_type": "code",
   "execution_count": null,
   "metadata": {},
   "outputs": [],
   "source": []
  },
  {
   "cell_type": "code",
   "execution_count": null,
   "metadata": {},
   "outputs": [],
   "source": []
  },
  {
   "cell_type": "code",
   "execution_count": null,
   "metadata": {},
   "outputs": [],
   "source": []
  },
  {
   "cell_type": "code",
   "execution_count": null,
   "metadata": {},
   "outputs": [],
   "source": []
  },
  {
   "cell_type": "code",
   "execution_count": null,
   "metadata": {},
   "outputs": [],
   "source": []
  },
  {
   "cell_type": "code",
   "execution_count": null,
   "metadata": {},
   "outputs": [],
   "source": []
  },
  {
   "cell_type": "code",
   "execution_count": null,
   "metadata": {},
   "outputs": [],
   "source": []
  },
  {
   "cell_type": "code",
   "execution_count": null,
   "metadata": {},
   "outputs": [],
   "source": []
  },
  {
   "cell_type": "code",
   "execution_count": null,
   "metadata": {},
   "outputs": [],
   "source": []
  },
  {
   "cell_type": "code",
   "execution_count": null,
   "metadata": {},
   "outputs": [],
   "source": []
  },
  {
   "cell_type": "code",
   "execution_count": null,
   "metadata": {},
   "outputs": [],
   "source": []
  },
  {
   "cell_type": "code",
   "execution_count": null,
   "metadata": {},
   "outputs": [],
   "source": []
  },
  {
   "cell_type": "code",
   "execution_count": null,
   "metadata": {},
   "outputs": [],
   "source": []
  },
  {
   "cell_type": "code",
   "execution_count": null,
   "metadata": {},
   "outputs": [],
   "source": []
  },
  {
   "cell_type": "code",
   "execution_count": null,
   "metadata": {},
   "outputs": [],
   "source": []
  },
  {
   "cell_type": "code",
   "execution_count": null,
   "metadata": {},
   "outputs": [],
   "source": []
  },
  {
   "cell_type": "code",
   "execution_count": null,
   "metadata": {},
   "outputs": [],
   "source": []
  },
  {
   "cell_type": "code",
   "execution_count": null,
   "metadata": {},
   "outputs": [],
   "source": []
  },
  {
   "cell_type": "code",
   "execution_count": null,
   "metadata": {},
   "outputs": [],
   "source": []
  },
  {
   "cell_type": "code",
   "execution_count": null,
   "metadata": {},
   "outputs": [],
   "source": []
  },
  {
   "cell_type": "code",
   "execution_count": null,
   "metadata": {},
   "outputs": [],
   "source": []
  },
  {
   "cell_type": "code",
   "execution_count": null,
   "metadata": {},
   "outputs": [],
   "source": []
  },
  {
   "cell_type": "code",
   "execution_count": null,
   "metadata": {},
   "outputs": [],
   "source": []
  },
  {
   "cell_type": "code",
   "execution_count": null,
   "metadata": {},
   "outputs": [],
   "source": []
  },
  {
   "cell_type": "code",
   "execution_count": null,
   "metadata": {},
   "outputs": [],
   "source": []
  },
  {
   "cell_type": "code",
   "execution_count": null,
   "metadata": {},
   "outputs": [],
   "source": []
  },
  {
   "cell_type": "code",
   "execution_count": null,
   "metadata": {},
   "outputs": [],
   "source": []
  },
  {
   "cell_type": "code",
   "execution_count": null,
   "metadata": {},
   "outputs": [],
   "source": []
  },
  {
   "cell_type": "code",
   "execution_count": null,
   "metadata": {},
   "outputs": [],
   "source": []
  }
 ],
 "metadata": {
  "kernelspec": {
   "display_name": "Python 3",
   "language": "python",
   "name": "python3"
  },
  "language_info": {
   "codemirror_mode": {
    "name": "ipython",
    "version": 3
   },
   "file_extension": ".py",
   "mimetype": "text/x-python",
   "name": "python",
   "nbconvert_exporter": "python",
   "pygments_lexer": "ipython3",
   "version": "3.7.3"
  }
 },
 "nbformat": 4,
 "nbformat_minor": 4
}
