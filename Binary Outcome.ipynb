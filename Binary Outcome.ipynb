{
 "cells": [
  {
   "cell_type": "markdown",
   "metadata": {},
   "source": [
    "# Predicting Hospital Readmission\n",
    "\n",
    "### Introduction\n",
    "\n",
    "\n",
    "### Attributes\n",
    "- **Encounter_id**: Unique identifier of an encounter.\n",
    "- **Patient_nbr**: Unique identifier of a patient.\n",
    "- **Race**: Caucasian, Asian, African American, Hispanic, and other.\n",
    "- **Gender**: male, female, and unknown/invalid.\n",
    "- **Age**: Grouped in 10-year intervals: 0, 10), 10, 20), …, 90, 100).\n",
    "- **Weight**: Weight in pounds.\n",
    "- **Admission type**: Integer identifier corresponding to 9 distinct values, for example, emergency, urgent, elective, newborn, and not available.\n",
    "- **Discharge disposition**: Integer identifier corresponding to 29 distinct values, for example, discharged to home, expired, and not available.\n",
    "- **Admission source**: Integer identifier corresponding to 21 distinct values, for example, physician referral, emergency room, and transfer from a hospital.\n",
    "- **Time in hospital**: Integer number of days between admission and discharge.\n",
    "- **Payer code**: Integer identifier corresponding to 23 distinct values, for example, Blue Cross/Blue Shield, Medicare, and self-pay.\n",
    "- **Medical specialty**: Integer identifier of a specialty of the admitting physician, corresponding to 84 distinct values, for example, cardiology, internal medicine, family/general practice, and surgeon.\n",
    "- **Number of lab procedures**: Number of lab tests performed during the encounter.\n",
    "- **Number of procedures**: Number of procedures (other than lab tests) performed during the encounter.\n",
    "- **Number of medications**: Number of distinct generic names administered during the encounter.\n",
    "- **Number of outpatient visits**: Number of outpatient visits of the patient in the year preceding the encounter.\n",
    "- **Number of emergency visits**: Number of emergency visits of the patient in the year preceding the encounter.\n",
    "- **Number of inpatient visits**: Number of inpatient visits of the patient in the year preceding the encounter.\n",
    "- **Diagnosis 1**: The primary diagnosis (coded as first three digits of ICD9); 848 distinct values.\n",
    "- **Diagnosis 2**: Secondary diagnosis (coded as first three digits of ICD9); 923 distinct values.\n",
    "- **Diagnosis 3**: Additional secondary diagnosis (coded as first three digits of ICD9); 954 distinct values.\n",
    "- **Number of diagnoses**: Number of diagnoses entered to the system 0%\n",
    "- **Glucose serum test result**: Indicates the range of the result or if the test was not taken. Values: “>200,” “>300,” “normal,” and “none” if not measured.\n",
    "- **A1c test result**: Indicates the range of the result or if the test was not taken. Values: “>8” if the result was greater than 8%, “>7” if the result was greater than 7% but less than 8%, “normal” if the result was less than 7%, and “none” if not measured.\n",
    "- **Change of medications**: Indicates if there was a change in diabetic medications (either dosage or generic name). Values: “change” and “no change”.\n",
    "- **Diabetes medications**: Indicates if there was any diabetic medication prescribed. Values: `yes` and `no`.\n",
    "- **24 features for medications**: Medications under their generic names: metformin, repaglinide, nateglinide, chlorpropamide, glimepiride, acetohexamide, glipizide, glyburide, tolbutamide, pioglitazone, rosiglitazone, acarbose, miglitol, troglitazone, tolazamide, examide, sitagliptin, insulin, glyburide-metformin, glipizide-metformin, glimepiride- pioglitazone, metformin-rosiglitazone, and metformin- pioglitazone, the feature indicates whether the drug was prescribed or there was a change in the dosage. _Values: `up` if the dosage was increased during the encounter, `down` if the dosage was decreased, `steady` if the dosage did not change, and `no` if the drug was not prescribed._\n",
    "- **Readmitted**: Days to inpatient readmission. Values: “<30” if the patient was readmitted in less than 30 days, “>30” if the patient was readmitted in more than 30 days, and “No” for no record of readmission\n",
    "\n",
    "\n",
    "#### Problem"
   ]
  },
  {
   "cell_type": "markdown",
   "metadata": {},
   "source": [
    "## Imports & Read Data"
   ]
  },
  {
   "cell_type": "code",
   "execution_count": 27,
   "metadata": {},
   "outputs": [],
   "source": [
    "# imports\n",
    "import pandas as pd\n",
    "import numpy as np\n",
    "import matplotlib.pyplot as plt\n",
    "import seaborn as sns\n",
    "\n",
    "\n",
    "from sklearn.model_selection import (train_test_split,\n",
    "                                     RandomizedSearchCV)\n",
    "from sklearn.preprocessing import StandardScaler\n",
    "from sklearn.compose import ColumnTransformer\n",
    "\n",
    "from sklearn.linear_model import LogisticRegression\n",
    "\n",
    "%matplotlib inline"
   ]
  },
  {
   "cell_type": "code",
   "execution_count": 28,
   "metadata": {},
   "outputs": [],
   "source": [
    "# read data\n",
    "PATH_df = r'C:\\Users\\alindsey\\Documents\\hospital_readmissions\\Data\\Raw\\diabetic_data.csv'\n",
    "PATH_codes = r'C:\\Users\\alindsey\\Documents\\hospital_readmissions\\Data\\Raw\\IDs_mapping.csv'\n",
    "df = pd.read_csv(PATH_df)\n",
    "codes = pd.read_csv(PATH_codes)"
   ]
  },
  {
   "cell_type": "code",
   "execution_count": 29,
   "metadata": {},
   "outputs": [],
   "source": [
    "# # read data MAC\n",
    "# df = pd.read_csv('Data/Raw/diabetic_data.csv')\n",
    "# codes = pd.read_csv('Data/Raw/IDs_mapping.csv')"
   ]
  },
  {
   "cell_type": "markdown",
   "metadata": {},
   "source": [
    "## Clean Data\n",
    "\n",
    "### codes"
   ]
  },
  {
   "cell_type": "code",
   "execution_count": 30,
   "metadata": {},
   "outputs": [
    {
     "data": {
      "text/html": [
       "<div>\n",
       "<style scoped>\n",
       "    .dataframe tbody tr th:only-of-type {\n",
       "        vertical-align: middle;\n",
       "    }\n",
       "\n",
       "    .dataframe tbody tr th {\n",
       "        vertical-align: top;\n",
       "    }\n",
       "\n",
       "    .dataframe thead th {\n",
       "        text-align: right;\n",
       "    }\n",
       "</style>\n",
       "<table border=\"1\" class=\"dataframe\">\n",
       "  <thead>\n",
       "    <tr style=\"text-align: right;\">\n",
       "      <th></th>\n",
       "      <th>values</th>\n",
       "      <th>admission_source_id</th>\n",
       "      <th>admission_type_id</th>\n",
       "      <th>discharge_disposition_id</th>\n",
       "    </tr>\n",
       "  </thead>\n",
       "  <tbody>\n",
       "    <tr>\n",
       "      <th>0</th>\n",
       "      <td>1</td>\n",
       "      <td>Physician Referral</td>\n",
       "      <td>Emergency</td>\n",
       "      <td>Discharged to home</td>\n",
       "    </tr>\n",
       "    <tr>\n",
       "      <th>1</th>\n",
       "      <td>2</td>\n",
       "      <td>Clinic Referral</td>\n",
       "      <td>Urgent</td>\n",
       "      <td>Discharged/transferred to another short term h...</td>\n",
       "    </tr>\n",
       "    <tr>\n",
       "      <th>2</th>\n",
       "      <td>3</td>\n",
       "      <td>HMO Referral</td>\n",
       "      <td>Elective</td>\n",
       "      <td>Discharged/transferred to SNF</td>\n",
       "    </tr>\n",
       "    <tr>\n",
       "      <th>3</th>\n",
       "      <td>4</td>\n",
       "      <td>Transfer from a hospital</td>\n",
       "      <td>Newborn</td>\n",
       "      <td>Discharged/transferred to ICF</td>\n",
       "    </tr>\n",
       "    <tr>\n",
       "      <th>4</th>\n",
       "      <td>5</td>\n",
       "      <td>Transfer from a Skilled Nursing Facility (SNF)</td>\n",
       "      <td>Not Available</td>\n",
       "      <td>Discharged/transferred to another type of inpa...</td>\n",
       "    </tr>\n",
       "    <tr>\n",
       "      <th>5</th>\n",
       "      <td>6</td>\n",
       "      <td>Transfer from another health care facility</td>\n",
       "      <td>NULL</td>\n",
       "      <td>Discharged/transferred to home with home healt...</td>\n",
       "    </tr>\n",
       "    <tr>\n",
       "      <th>6</th>\n",
       "      <td>7</td>\n",
       "      <td>Emergency Room</td>\n",
       "      <td>Trauma Center</td>\n",
       "      <td>Left AMA</td>\n",
       "    </tr>\n",
       "    <tr>\n",
       "      <th>7</th>\n",
       "      <td>8</td>\n",
       "      <td>Court/Law Enforcement</td>\n",
       "      <td>Not Mapped</td>\n",
       "      <td>Discharged/transferred to home under care of H...</td>\n",
       "    </tr>\n",
       "    <tr>\n",
       "      <th>8</th>\n",
       "      <td>9</td>\n",
       "      <td>Not Available</td>\n",
       "      <td>NaN</td>\n",
       "      <td>Admitted as an inpatient to this hospital</td>\n",
       "    </tr>\n",
       "    <tr>\n",
       "      <th>9</th>\n",
       "      <td>10</td>\n",
       "      <td>Transfer from critial access hospital</td>\n",
       "      <td>NaN</td>\n",
       "      <td>Neonate discharged to another hospital for neo...</td>\n",
       "    </tr>\n",
       "  </tbody>\n",
       "</table>\n",
       "</div>"
      ],
      "text/plain": [
       "  values                              admission_source_id admission_type_id  \\\n",
       "0      1                               Physician Referral         Emergency   \n",
       "1      2                                  Clinic Referral            Urgent   \n",
       "2      3                                     HMO Referral          Elective   \n",
       "3      4                         Transfer from a hospital           Newborn   \n",
       "4      5   Transfer from a Skilled Nursing Facility (SNF)     Not Available   \n",
       "5      6       Transfer from another health care facility              NULL   \n",
       "6      7                                   Emergency Room     Trauma Center   \n",
       "7      8                            Court/Law Enforcement        Not Mapped   \n",
       "8      9                                    Not Available               NaN   \n",
       "9     10            Transfer from critial access hospital               NaN   \n",
       "\n",
       "                            discharge_disposition_id  \n",
       "0                                 Discharged to home  \n",
       "1  Discharged/transferred to another short term h...  \n",
       "2                      Discharged/transferred to SNF  \n",
       "3                      Discharged/transferred to ICF  \n",
       "4  Discharged/transferred to another type of inpa...  \n",
       "5  Discharged/transferred to home with home healt...  \n",
       "6                                           Left AMA  \n",
       "7  Discharged/transferred to home under care of H...  \n",
       "8          Admitted as an inpatient to this hospital  \n",
       "9  Neonate discharged to another hospital for neo...  "
      ]
     },
     "execution_count": 30,
     "metadata": {},
     "output_type": "execute_result"
    }
   ],
   "source": [
    "# clean codes\n",
    "codes = codes[(codes['description']!='description')] \n",
    "\n",
    "# merge\n",
    "codes = pd.merge(codes.copy()[40:].rename(columns={'description':'admission_source_id',\n",
    "                                                     'admission_type_id':'values'}),\n",
    "                 (pd.merge(codes.copy()[0:8].rename(columns={'description':'admission_type_id',\n",
    "                                                             'admission_type_id':'values'}),\n",
    "                           codes.copy()[9:39].rename(columns={'description':'discharge_disposition_id',\n",
    "                                                              'admission_type_id':'values'}),\n",
    "                           how='outer',\n",
    "                           left_on='values',\n",
    "                           right_on='values')),\n",
    "                 how='outer',\n",
    "                 left_on='values',\n",
    "                 right_on='values').reset_index(drop=True)\n",
    "\n",
    "# some NAN should actually be NULL\n",
    "codes.loc[15, 'admission_source_id'] = 'NULL'\n",
    "codes.loc[5, 'admission_type_id'] = 'NULL'\n",
    "codes.loc[16, 'discharge_disposition_id'] = 'NULL'\n",
    "codes.head(10)"
   ]
  },
  {
   "cell_type": "markdown",
   "metadata": {},
   "source": [
    "### Primary df"
   ]
  },
  {
   "cell_type": "code",
   "execution_count": 31,
   "metadata": {},
   "outputs": [
    {
     "data": {
      "text/html": [
       "<div>\n",
       "<style scoped>\n",
       "    .dataframe tbody tr th:only-of-type {\n",
       "        vertical-align: middle;\n",
       "    }\n",
       "\n",
       "    .dataframe tbody tr th {\n",
       "        vertical-align: top;\n",
       "    }\n",
       "\n",
       "    .dataframe thead th {\n",
       "        text-align: right;\n",
       "    }\n",
       "</style>\n",
       "<table border=\"1\" class=\"dataframe\">\n",
       "  <thead>\n",
       "    <tr style=\"text-align: right;\">\n",
       "      <th></th>\n",
       "      <th>race</th>\n",
       "      <th>gender</th>\n",
       "      <th>age</th>\n",
       "      <th>weight</th>\n",
       "      <th>admission_type_id</th>\n",
       "      <th>discharge_disposition_id</th>\n",
       "      <th>admission_source_id</th>\n",
       "      <th>time_in_hospital</th>\n",
       "      <th>payer_code</th>\n",
       "      <th>medical_specialty</th>\n",
       "      <th>...</th>\n",
       "      <th>citoglipton</th>\n",
       "      <th>insulin</th>\n",
       "      <th>glyburide-metformin</th>\n",
       "      <th>glipizide-metformin</th>\n",
       "      <th>glimepiride-pioglitazone</th>\n",
       "      <th>metformin-rosiglitazone</th>\n",
       "      <th>metformin-pioglitazone</th>\n",
       "      <th>change</th>\n",
       "      <th>diabetesMed</th>\n",
       "      <th>readmitted</th>\n",
       "    </tr>\n",
       "  </thead>\n",
       "  <tbody>\n",
       "    <tr>\n",
       "      <th>0</th>\n",
       "      <td>Caucasian</td>\n",
       "      <td>Female</td>\n",
       "      <td>[0-10)</td>\n",
       "      <td>NaN</td>\n",
       "      <td>6</td>\n",
       "      <td>25</td>\n",
       "      <td>1</td>\n",
       "      <td>1</td>\n",
       "      <td>NaN</td>\n",
       "      <td>Pediatrics-Endocrinology</td>\n",
       "      <td>...</td>\n",
       "      <td>No</td>\n",
       "      <td>No</td>\n",
       "      <td>No</td>\n",
       "      <td>No</td>\n",
       "      <td>No</td>\n",
       "      <td>No</td>\n",
       "      <td>No</td>\n",
       "      <td>No</td>\n",
       "      <td>No</td>\n",
       "      <td>NO</td>\n",
       "    </tr>\n",
       "    <tr>\n",
       "      <th>1</th>\n",
       "      <td>Caucasian</td>\n",
       "      <td>Female</td>\n",
       "      <td>[10-20)</td>\n",
       "      <td>NaN</td>\n",
       "      <td>1</td>\n",
       "      <td>1</td>\n",
       "      <td>7</td>\n",
       "      <td>3</td>\n",
       "      <td>NaN</td>\n",
       "      <td>NaN</td>\n",
       "      <td>...</td>\n",
       "      <td>No</td>\n",
       "      <td>Up</td>\n",
       "      <td>No</td>\n",
       "      <td>No</td>\n",
       "      <td>No</td>\n",
       "      <td>No</td>\n",
       "      <td>No</td>\n",
       "      <td>Ch</td>\n",
       "      <td>Yes</td>\n",
       "      <td>YES</td>\n",
       "    </tr>\n",
       "    <tr>\n",
       "      <th>2</th>\n",
       "      <td>AfricanAmerican</td>\n",
       "      <td>Female</td>\n",
       "      <td>[20-30)</td>\n",
       "      <td>NaN</td>\n",
       "      <td>1</td>\n",
       "      <td>1</td>\n",
       "      <td>7</td>\n",
       "      <td>2</td>\n",
       "      <td>NaN</td>\n",
       "      <td>NaN</td>\n",
       "      <td>...</td>\n",
       "      <td>No</td>\n",
       "      <td>No</td>\n",
       "      <td>No</td>\n",
       "      <td>No</td>\n",
       "      <td>No</td>\n",
       "      <td>No</td>\n",
       "      <td>No</td>\n",
       "      <td>No</td>\n",
       "      <td>Yes</td>\n",
       "      <td>NO</td>\n",
       "    </tr>\n",
       "    <tr>\n",
       "      <th>3</th>\n",
       "      <td>Caucasian</td>\n",
       "      <td>Male</td>\n",
       "      <td>[30-40)</td>\n",
       "      <td>NaN</td>\n",
       "      <td>1</td>\n",
       "      <td>1</td>\n",
       "      <td>7</td>\n",
       "      <td>2</td>\n",
       "      <td>NaN</td>\n",
       "      <td>NaN</td>\n",
       "      <td>...</td>\n",
       "      <td>No</td>\n",
       "      <td>Up</td>\n",
       "      <td>No</td>\n",
       "      <td>No</td>\n",
       "      <td>No</td>\n",
       "      <td>No</td>\n",
       "      <td>No</td>\n",
       "      <td>Ch</td>\n",
       "      <td>Yes</td>\n",
       "      <td>NO</td>\n",
       "    </tr>\n",
       "    <tr>\n",
       "      <th>4</th>\n",
       "      <td>Caucasian</td>\n",
       "      <td>Male</td>\n",
       "      <td>[40-50)</td>\n",
       "      <td>NaN</td>\n",
       "      <td>1</td>\n",
       "      <td>1</td>\n",
       "      <td>7</td>\n",
       "      <td>1</td>\n",
       "      <td>NaN</td>\n",
       "      <td>NaN</td>\n",
       "      <td>...</td>\n",
       "      <td>No</td>\n",
       "      <td>Steady</td>\n",
       "      <td>No</td>\n",
       "      <td>No</td>\n",
       "      <td>No</td>\n",
       "      <td>No</td>\n",
       "      <td>No</td>\n",
       "      <td>Ch</td>\n",
       "      <td>Yes</td>\n",
       "      <td>NO</td>\n",
       "    </tr>\n",
       "  </tbody>\n",
       "</table>\n",
       "<p>5 rows × 48 columns</p>\n",
       "</div>"
      ],
      "text/plain": [
       "              race  gender      age weight  admission_type_id  \\\n",
       "0        Caucasian  Female   [0-10)    NaN                  6   \n",
       "1        Caucasian  Female  [10-20)    NaN                  1   \n",
       "2  AfricanAmerican  Female  [20-30)    NaN                  1   \n",
       "3        Caucasian    Male  [30-40)    NaN                  1   \n",
       "4        Caucasian    Male  [40-50)    NaN                  1   \n",
       "\n",
       "   discharge_disposition_id  admission_source_id  time_in_hospital payer_code  \\\n",
       "0                        25                    1                 1        NaN   \n",
       "1                         1                    7                 3        NaN   \n",
       "2                         1                    7                 2        NaN   \n",
       "3                         1                    7                 2        NaN   \n",
       "4                         1                    7                 1        NaN   \n",
       "\n",
       "          medical_specialty  ...  citoglipton  insulin  glyburide-metformin  \\\n",
       "0  Pediatrics-Endocrinology  ...           No       No                   No   \n",
       "1                       NaN  ...           No       Up                   No   \n",
       "2                       NaN  ...           No       No                   No   \n",
       "3                       NaN  ...           No       Up                   No   \n",
       "4                       NaN  ...           No   Steady                   No   \n",
       "\n",
       "   glipizide-metformin  glimepiride-pioglitazone  metformin-rosiglitazone  \\\n",
       "0                   No                        No                       No   \n",
       "1                   No                        No                       No   \n",
       "2                   No                        No                       No   \n",
       "3                   No                        No                       No   \n",
       "4                   No                        No                       No   \n",
       "\n",
       "  metformin-pioglitazone change diabetesMed  readmitted  \n",
       "0                     No     No          No          NO  \n",
       "1                     No     Ch         Yes         YES  \n",
       "2                     No     No         Yes          NO  \n",
       "3                     No     Ch         Yes          NO  \n",
       "4                     No     Ch         Yes          NO  \n",
       "\n",
       "[5 rows x 48 columns]"
      ]
     },
     "execution_count": 31,
     "metadata": {},
     "output_type": "execute_result"
    }
   ],
   "source": [
    "# clean df\n",
    "df.replace('?', np.nan, inplace=True)\n",
    "\n",
    "# drop encounter_id\n",
    "df.drop(['encounter_id', 'patient_nbr'], axis=1, inplace=True)\n",
    "\n",
    "# make outcome variable binary\n",
    "df['readmitted'].replace({'<30':'YES', '>30':'YES'}, inplace=True)\n",
    "df.head()"
   ]
  },
  {
   "cell_type": "code",
   "execution_count": 32,
   "metadata": {},
   "outputs": [],
   "source": [
    "# # no drug df\n",
    "# no_drug_df = pd.merge(df[list(df.columns[0:24])], \n",
    "#                       df[list(df.columns[-3:])],\n",
    "#                       how='inner',\n",
    "#                       left_index=True,\n",
    "#                       right_index=True)\n",
    "\n",
    "# no_drug_df.head()"
   ]
  },
  {
   "cell_type": "code",
   "execution_count": 33,
   "metadata": {},
   "outputs": [],
   "source": [
    "# # drug df\n",
    "# drugs_df = df[list(df.columns[24:-3])]\n",
    "# drugs_df.head()"
   ]
  },
  {
   "cell_type": "markdown",
   "metadata": {},
   "source": [
    "## Initial Investigation"
   ]
  },
  {
   "cell_type": "code",
   "execution_count": 34,
   "metadata": {},
   "outputs": [
    {
     "name": "stdout",
     "output_type": "stream",
     "text": [
      "<class 'pandas.core.frame.DataFrame'>\n",
      "RangeIndex: 101766 entries, 0 to 101765\n",
      "Data columns (total 48 columns):\n",
      " #   Column                    Non-Null Count   Dtype \n",
      "---  ------                    --------------   ----- \n",
      " 0   race                      99493 non-null   object\n",
      " 1   gender                    101766 non-null  object\n",
      " 2   age                       101766 non-null  object\n",
      " 3   weight                    3197 non-null    object\n",
      " 4   admission_type_id         101766 non-null  int64 \n",
      " 5   discharge_disposition_id  101766 non-null  int64 \n",
      " 6   admission_source_id       101766 non-null  int64 \n",
      " 7   time_in_hospital          101766 non-null  int64 \n",
      " 8   payer_code                61510 non-null   object\n",
      " 9   medical_specialty         51817 non-null   object\n",
      " 10  num_lab_procedures        101766 non-null  int64 \n",
      " 11  num_procedures            101766 non-null  int64 \n",
      " 12  num_medications           101766 non-null  int64 \n",
      " 13  number_outpatient         101766 non-null  int64 \n",
      " 14  number_emergency          101766 non-null  int64 \n",
      " 15  number_inpatient          101766 non-null  int64 \n",
      " 16  diag_1                    101745 non-null  object\n",
      " 17  diag_2                    101408 non-null  object\n",
      " 18  diag_3                    100343 non-null  object\n",
      " 19  number_diagnoses          101766 non-null  int64 \n",
      " 20  max_glu_serum             101766 non-null  object\n",
      " 21  A1Cresult                 101766 non-null  object\n",
      " 22  metformin                 101766 non-null  object\n",
      " 23  repaglinide               101766 non-null  object\n",
      " 24  nateglinide               101766 non-null  object\n",
      " 25  chlorpropamide            101766 non-null  object\n",
      " 26  glimepiride               101766 non-null  object\n",
      " 27  acetohexamide             101766 non-null  object\n",
      " 28  glipizide                 101766 non-null  object\n",
      " 29  glyburide                 101766 non-null  object\n",
      " 30  tolbutamide               101766 non-null  object\n",
      " 31  pioglitazone              101766 non-null  object\n",
      " 32  rosiglitazone             101766 non-null  object\n",
      " 33  acarbose                  101766 non-null  object\n",
      " 34  miglitol                  101766 non-null  object\n",
      " 35  troglitazone              101766 non-null  object\n",
      " 36  tolazamide                101766 non-null  object\n",
      " 37  examide                   101766 non-null  object\n",
      " 38  citoglipton               101766 non-null  object\n",
      " 39  insulin                   101766 non-null  object\n",
      " 40  glyburide-metformin       101766 non-null  object\n",
      " 41  glipizide-metformin       101766 non-null  object\n",
      " 42  glimepiride-pioglitazone  101766 non-null  object\n",
      " 43  metformin-rosiglitazone   101766 non-null  object\n",
      " 44  metformin-pioglitazone    101766 non-null  object\n",
      " 45  change                    101766 non-null  object\n",
      " 46  diabetesMed               101766 non-null  object\n",
      " 47  readmitted                101766 non-null  object\n",
      "dtypes: int64(11), object(37)\n",
      "memory usage: 37.3+ MB\n"
     ]
    }
   ],
   "source": [
    "df.info()"
   ]
  },
  {
   "cell_type": "code",
   "execution_count": 35,
   "metadata": {
    "scrolled": true
   },
   "outputs": [
    {
     "data": {
      "text/html": [
       "<div>\n",
       "<style scoped>\n",
       "    .dataframe tbody tr th:only-of-type {\n",
       "        vertical-align: middle;\n",
       "    }\n",
       "\n",
       "    .dataframe tbody tr th {\n",
       "        vertical-align: top;\n",
       "    }\n",
       "\n",
       "    .dataframe thead th {\n",
       "        text-align: right;\n",
       "    }\n",
       "</style>\n",
       "<table border=\"1\" class=\"dataframe\">\n",
       "  <thead>\n",
       "    <tr style=\"text-align: right;\">\n",
       "      <th></th>\n",
       "      <th>admission_type_id</th>\n",
       "      <th>discharge_disposition_id</th>\n",
       "      <th>admission_source_id</th>\n",
       "      <th>time_in_hospital</th>\n",
       "      <th>num_lab_procedures</th>\n",
       "      <th>num_procedures</th>\n",
       "      <th>num_medications</th>\n",
       "      <th>number_outpatient</th>\n",
       "      <th>number_emergency</th>\n",
       "      <th>number_inpatient</th>\n",
       "      <th>number_diagnoses</th>\n",
       "    </tr>\n",
       "  </thead>\n",
       "  <tbody>\n",
       "    <tr>\n",
       "      <th>count</th>\n",
       "      <td>101766.00</td>\n",
       "      <td>101766.00</td>\n",
       "      <td>101766.00</td>\n",
       "      <td>101766.00</td>\n",
       "      <td>101766.00</td>\n",
       "      <td>101766.00</td>\n",
       "      <td>101766.00</td>\n",
       "      <td>101766.00</td>\n",
       "      <td>101766.00</td>\n",
       "      <td>101766.00</td>\n",
       "      <td>101766.00</td>\n",
       "    </tr>\n",
       "    <tr>\n",
       "      <th>mean</th>\n",
       "      <td>2.02</td>\n",
       "      <td>3.72</td>\n",
       "      <td>5.75</td>\n",
       "      <td>4.40</td>\n",
       "      <td>43.10</td>\n",
       "      <td>1.34</td>\n",
       "      <td>16.02</td>\n",
       "      <td>0.37</td>\n",
       "      <td>0.20</td>\n",
       "      <td>0.64</td>\n",
       "      <td>7.42</td>\n",
       "    </tr>\n",
       "    <tr>\n",
       "      <th>std</th>\n",
       "      <td>1.45</td>\n",
       "      <td>5.28</td>\n",
       "      <td>4.06</td>\n",
       "      <td>2.99</td>\n",
       "      <td>19.67</td>\n",
       "      <td>1.71</td>\n",
       "      <td>8.13</td>\n",
       "      <td>1.27</td>\n",
       "      <td>0.93</td>\n",
       "      <td>1.26</td>\n",
       "      <td>1.93</td>\n",
       "    </tr>\n",
       "    <tr>\n",
       "      <th>min</th>\n",
       "      <td>1.00</td>\n",
       "      <td>1.00</td>\n",
       "      <td>1.00</td>\n",
       "      <td>1.00</td>\n",
       "      <td>1.00</td>\n",
       "      <td>0.00</td>\n",
       "      <td>1.00</td>\n",
       "      <td>0.00</td>\n",
       "      <td>0.00</td>\n",
       "      <td>0.00</td>\n",
       "      <td>1.00</td>\n",
       "    </tr>\n",
       "    <tr>\n",
       "      <th>25%</th>\n",
       "      <td>1.00</td>\n",
       "      <td>1.00</td>\n",
       "      <td>1.00</td>\n",
       "      <td>2.00</td>\n",
       "      <td>31.00</td>\n",
       "      <td>0.00</td>\n",
       "      <td>10.00</td>\n",
       "      <td>0.00</td>\n",
       "      <td>0.00</td>\n",
       "      <td>0.00</td>\n",
       "      <td>6.00</td>\n",
       "    </tr>\n",
       "    <tr>\n",
       "      <th>50%</th>\n",
       "      <td>1.00</td>\n",
       "      <td>1.00</td>\n",
       "      <td>7.00</td>\n",
       "      <td>4.00</td>\n",
       "      <td>44.00</td>\n",
       "      <td>1.00</td>\n",
       "      <td>15.00</td>\n",
       "      <td>0.00</td>\n",
       "      <td>0.00</td>\n",
       "      <td>0.00</td>\n",
       "      <td>8.00</td>\n",
       "    </tr>\n",
       "    <tr>\n",
       "      <th>75%</th>\n",
       "      <td>3.00</td>\n",
       "      <td>4.00</td>\n",
       "      <td>7.00</td>\n",
       "      <td>6.00</td>\n",
       "      <td>57.00</td>\n",
       "      <td>2.00</td>\n",
       "      <td>20.00</td>\n",
       "      <td>0.00</td>\n",
       "      <td>0.00</td>\n",
       "      <td>1.00</td>\n",
       "      <td>9.00</td>\n",
       "    </tr>\n",
       "    <tr>\n",
       "      <th>max</th>\n",
       "      <td>8.00</td>\n",
       "      <td>28.00</td>\n",
       "      <td>25.00</td>\n",
       "      <td>14.00</td>\n",
       "      <td>132.00</td>\n",
       "      <td>6.00</td>\n",
       "      <td>81.00</td>\n",
       "      <td>42.00</td>\n",
       "      <td>76.00</td>\n",
       "      <td>21.00</td>\n",
       "      <td>16.00</td>\n",
       "    </tr>\n",
       "  </tbody>\n",
       "</table>\n",
       "</div>"
      ],
      "text/plain": [
       "       admission_type_id  discharge_disposition_id  admission_source_id  \\\n",
       "count          101766.00                 101766.00            101766.00   \n",
       "mean                2.02                      3.72                 5.75   \n",
       "std                 1.45                      5.28                 4.06   \n",
       "min                 1.00                      1.00                 1.00   \n",
       "25%                 1.00                      1.00                 1.00   \n",
       "50%                 1.00                      1.00                 7.00   \n",
       "75%                 3.00                      4.00                 7.00   \n",
       "max                 8.00                     28.00                25.00   \n",
       "\n",
       "       time_in_hospital  num_lab_procedures  num_procedures  num_medications  \\\n",
       "count         101766.00           101766.00       101766.00        101766.00   \n",
       "mean               4.40               43.10            1.34            16.02   \n",
       "std                2.99               19.67            1.71             8.13   \n",
       "min                1.00                1.00            0.00             1.00   \n",
       "25%                2.00               31.00            0.00            10.00   \n",
       "50%                4.00               44.00            1.00            15.00   \n",
       "75%                6.00               57.00            2.00            20.00   \n",
       "max               14.00              132.00            6.00            81.00   \n",
       "\n",
       "       number_outpatient  number_emergency  number_inpatient  number_diagnoses  \n",
       "count          101766.00         101766.00         101766.00         101766.00  \n",
       "mean                0.37              0.20              0.64              7.42  \n",
       "std                 1.27              0.93              1.26              1.93  \n",
       "min                 0.00              0.00              0.00              1.00  \n",
       "25%                 0.00              0.00              0.00              6.00  \n",
       "50%                 0.00              0.00              0.00              8.00  \n",
       "75%                 0.00              0.00              1.00              9.00  \n",
       "max                42.00             76.00             21.00             16.00  "
      ]
     },
     "execution_count": 35,
     "metadata": {},
     "output_type": "execute_result"
    }
   ],
   "source": [
    "pd.options.display.float_format = \"{:.2f}\".format # two decimal places\n",
    "# df.drop(columns={'patient_nbr'}).describe()\n",
    "df.describe()"
   ]
  },
  {
   "cell_type": "markdown",
   "metadata": {},
   "source": [
    "### Missing Values"
   ]
  },
  {
   "cell_type": "code",
   "execution_count": 36,
   "metadata": {},
   "outputs": [
    {
     "data": {
      "image/png": "[encoded data removed]",
      "text/plain": [
       "<Figure size 936x216 with 1 Axes>"
      ]
     },
     "metadata": {
      "needs_background": "light"
     },
     "output_type": "display_data"
    }
   ],
   "source": [
    "fig, ax = plt.subplots(figsize=(13, 3))\n",
    "\n",
    "sns.barplot(x=df.isnull().sum()[df.isnull().sum()>0],\n",
    "            y=df.columns[df.isna().any()].tolist(),\n",
    "            orient='h')\n",
    "\n",
    "plt.title('Fig 1: Missing Values', size=20);"
   ]
  },
  {
   "cell_type": "markdown",
   "metadata": {},
   "source": [
    "#### Weight, Payer Code, Medical Specialty\n",
    "\n",
    "Over 90% of `weight` is missing, so it is dropped from the dataset. `payer_code`, `medical_specialty` are both dropped as nearly 50% are missing. \n",
    "\n",
    "The other variables are missing a small percentage of their observations."
   ]
  },
  {
   "cell_type": "code",
   "execution_count": 37,
   "metadata": {},
   "outputs": [],
   "source": [
    "df.drop(['weight', 'payer_code', 'medical_specialty', 'diag_2', 'diag_3'], axis=1, inplace=True)"
   ]
  },
  {
   "cell_type": "markdown",
   "metadata": {},
   "source": [
    "## Exploratory Analysis"
   ]
  },
  {
   "cell_type": "code",
   "execution_count": 38,
   "metadata": {},
   "outputs": [
    {
     "data": {
      "image/png": "[encoded data removed]",
      "text/plain": [
       "<Figure size 936x216 with 1 Axes>"
      ]
     },
     "metadata": {
      "needs_background": "light"
     },
     "output_type": "display_data"
    }
   ],
   "source": [
    "fig, ax = plt.subplots(figsize=(13, 3))\n",
    "\n",
    "sns.countplot(y='readmitted', data=df)\n",
    "plt.title('Fig 2: Readmissions Breakdown', size=20)\n",
    "plt.xlabel('');"
   ]
  },
  {
   "cell_type": "markdown",
   "metadata": {},
   "source": [
    "### Non-Drug Features vs. Readmission (Non-Drugs)"
   ]
  },
  {
   "cell_type": "code",
   "execution_count": 39,
   "metadata": {
    "scrolled": false
   },
   "outputs": [
    {
     "data": {
      "image/png": "[encoded data removed]",
      "text/plain": [
       "<Figure size 1080x864 with 10 Axes>"
      ]
     },
     "metadata": {
      "needs_background": "light"
     },
     "output_type": "display_data"
    },
    {
     "data": {
      "image/png": "[encoded data removed]",
      "text/plain": [
       "<Figure size 1080x1080 with 5 Axes>"
      ]
     },
     "metadata": {
      "needs_background": "light"
     },
     "output_type": "display_data"
    }
   ],
   "source": [
    "hue = df['readmitted']\n",
    "\n",
    "# top 5 rows\n",
    "fig, ((ax1, ax2),\n",
    "      (ax3, ax4),\n",
    "      (ax5, ax6),\n",
    "      (ax7, ax8),\n",
    "      (ax9, ax10)) = plt.subplots(5, 2, figsize=(15,12))\n",
    "\n",
    "\n",
    "fig.subplots_adjust(hspace=0.35, wspace=.4)\n",
    "fig.suptitle('Fig. 3: Non-Drug Features vs. Readmission', size=20)\n",
    "\n",
    "sns.countplot(x=df['gender'], hue=hue, ax=ax1)\n",
    "sns.countplot(x=df['diabetesMed'], hue=hue, ax=ax2)\n",
    "sns.countplot(x=df['admission_type_id'], hue=hue, ax=ax3)\n",
    "sns.countplot(x=df['admission_source_id'], hue=hue, ax=ax4)\n",
    "sns.countplot(x=df['time_in_hospital'], hue=hue, ax=ax5)\n",
    "# sns.countplot(x=df['num_lab_procedures'], hue=hue, ax=ax10)\n",
    "# sns.countplot(x=df['medical_specialty'], hue=hue, ax=ax11)\n",
    "sns.countplot(x=df['num_procedures'], hue=hue, ax=ax6)\n",
    "# sns.countplot(x=df['num_medications'], hue=hue, ax=ax11)\n",
    "sns.countplot(x=df['number_diagnoses'], hue=hue, ax=ax7)\n",
    "sns.countplot(x=df['max_glu_serum'], hue=hue, ax=ax8)\n",
    "sns.countplot(x=df['A1Cresult'], hue=hue, ax=ax9)\n",
    "sns.countplot(x=df['change'], hue=hue, ax=ax10)\n",
    "\n",
    "\n",
    "\n",
    "# bottom 7 rows\n",
    "fig, (ax1, ax2, ax3, ax4, ax5) = plt.subplots(5, 1, figsize=(15, 15))\n",
    "fig.subplots_adjust(hspace=0.4, wspace=0.3)\n",
    "\n",
    "sns.countplot(x=df['age'], hue=hue, ax=ax1)\n",
    "sns.countplot(x=df['discharge_disposition_id'], hue=hue, ax=ax2)\n",
    "sns.countplot(x=df['number_outpatient'], hue=hue, ax=ax3)\n",
    "sns.countplot(x=df['race'], hue=hue, ax=ax4)\n",
    "sns.countplot(x=df['insulin'], hue=hue, ax=ax5);"
   ]
  },
  {
   "cell_type": "code",
   "execution_count": 40,
   "metadata": {},
   "outputs": [],
   "source": [
    "# def corr_plot(df, title='Correlation Plot', figsize=(25, 10), max_cols=20):\n",
    "#     \"\"\"\n",
    "#     Prints correlation plot. If number of columns > max_cols then annotations are turned off. \n",
    "#     \"\"\"\n",
    "#   \n",
    "#     plt.style.use('seaborn-whitegrid')\n",
    "#     fig = plt.figure(figsize=figsize)\n",
    "#     mask = np.zeros_like(df.corr(), dtype=np.bool)\n",
    "#     mask[np.triu_indices_from(mask)] = True\n",
    "    \n",
    "#     # if too many columns, plot gets messy because of in-box annotations\n",
    "#     if len(df.columns)>max_cols:\n",
    "#         annot = False\n",
    "#     else:\n",
    "#         annot = True   \n",
    "    \n",
    "#     sns.heatmap(df.corr(),\n",
    "#                 annot=annot,\n",
    "#                 vmin=-1, vmax=1,\n",
    "#                 square=True, \n",
    "#                 cmap=sns.color_palette('RdBu_r', 100),\n",
    "#                 mask=mask,\n",
    "#                 linewidths=0.5)\n",
    "#     # title\n",
    "#     plt.title(title, size=20)\n",
    "\n",
    "# corr_plot(df)"
   ]
  },
  {
   "cell_type": "markdown",
   "metadata": {},
   "source": [
    "# Impute Missing Values"
   ]
  },
  {
   "cell_type": "code",
   "execution_count": 41,
   "metadata": {},
   "outputs": [],
   "source": [
    "df.rename(columns={'diag_1':'diagnosis'}, inplace=True)"
   ]
  },
  {
   "cell_type": "code",
   "execution_count": 42,
   "metadata": {
    "scrolled": false
   },
   "outputs": [],
   "source": [
    "for i in df.index:\n",
    "    current_race = df.at[i, 'race']\n",
    "    current_diag_1 = df.at[i, 'diagnosis']\n",
    "    \n",
    "    if pd.isnull(current_race)==True:\n",
    "        df.at[i, 'race'] = 'Caucasian'\n",
    "    \n",
    "    if pd.isnull(current_diag_1)==True:\n",
    "        df.at[i, 'diagnosis'] = 428"
   ]
  },
  {
   "cell_type": "markdown",
   "metadata": {},
   "source": [
    "# Feature Engineering\n",
    "\n",
    "## How many times seen before"
   ]
  },
  {
   "cell_type": "markdown",
   "metadata": {},
   "source": [
    "## Number outpatient\n",
    "\n",
    "For "
   ]
  },
  {
   "cell_type": "code",
   "execution_count": null,
   "metadata": {},
   "outputs": [],
   "source": []
  },
  {
   "cell_type": "code",
   "execution_count": null,
   "metadata": {},
   "outputs": [],
   "source": []
  },
  {
   "cell_type": "code",
   "execution_count": null,
   "metadata": {},
   "outputs": [],
   "source": []
  },
  {
   "cell_type": "code",
   "execution_count": null,
   "metadata": {},
   "outputs": [],
   "source": []
  },
  {
   "cell_type": "code",
   "execution_count": null,
   "metadata": {},
   "outputs": [],
   "source": []
  },
  {
   "cell_type": "markdown",
   "metadata": {},
   "source": [
    "## Categorization of Diagnoses\n",
    "\n",
    "There are hundreds of different diagnoses here. The broad categories are available [here](https://en.wikipedia.org/wiki/List_of_ICD-9_codes). "
   ]
  },
  {
   "cell_type": "code",
   "execution_count": 43,
   "metadata": {},
   "outputs": [
    {
     "name": "stderr",
     "output_type": "stream",
     "text": [
      "100%|██████████| 101766/101766 [00:02<00:00, 42118.24it/s]\n"
     ]
    }
   ],
   "source": [
    "from tqdm import tqdm\n",
    "\n",
    "for i in tqdm(df.index):\n",
    "    d = df.at[i, 'diagnosis']\n",
    "    \n",
    "    try:\n",
    "        df.at[i, 'diagnosis'] = float(df.at[i, 'diagnosis'])\n",
    "        \n",
    "    except ValueError:\n",
    "        if 'E' in d:\n",
    "            df.at[i, 'diagnosis'] = 'external cause of injury'\n",
    "\n",
    "        else:\n",
    "            df.at[i, 'diagnosis'] = 'other'\n",
    "    else:\n",
    "        d = float(df.at[i, 'diagnosis'])\n",
    "        \n",
    "        if d>=1 and d<=139:\n",
    "            df.at[i, 'diagnosis'] = 'infections/parasitic'\n",
    "        elif d>=140 and d<=239:\n",
    "            df.at[i, 'diagnosis'] = 'neoplasms'\n",
    "        elif d>=240 and d<=279:\n",
    "            df.at[i, 'diagnosis'] = 'endocrine/nutrition/immunity'\n",
    "        elif d>= 280 and d<=289:\n",
    "            df.at[i, 'diagnosis'] = 'blood'\n",
    "        elif d>=290 and d<=319:\n",
    "            df.at[i, 'diagnosis'] = 'mental disorders'\n",
    "        elif d>=320 and d<=329:\n",
    "            df.at[i, 'diagnosis'] = 'nervous system'\n",
    "        elif d>=390 and d<=459:\n",
    "            df.at[i, 'diagnosis'] = 'circulatory'\n",
    "        elif d>=460 and d<=519:\n",
    "            df.at[i, 'diagnosis'] = 'respiratory'\n",
    "        elif d>=520 and d<=579:\n",
    "            df.at[i, 'diagnosis'] = 'digestive'\n",
    "        elif d>=580 and d<=629:\n",
    "            df.at[i, 'diagnosis'] = 'genitourinary'\n",
    "        elif d>=630 and d<=679:\n",
    "            df.at[i, 'diagnosis'] = 'pregnancy/childbirth'\n",
    "        elif d>=680 and d<=709:\n",
    "            df.at[i, 'diagnosis'] = 'skin/subcutaneous tissue'\n",
    "        elif d>=710 and d<=739:\n",
    "            df.at[i, 'diagnosis'] = 'musculoskeletal'\n",
    "        elif d>=740 and d<=759:\n",
    "            df.at[i, 'diagnosis'] = 'congenital anomalies'\n",
    "        elif d>=760 and d<=779:\n",
    "            df.at[i, 'diagnosis'] = 'perinatal'\n",
    "        elif d>=780 and d<=799:\n",
    "            df.at[i, 'diagnosis'] = 'ill-defined'\n",
    "        else:\n",
    "            df.at[i, 'diagnosis'] = 'injury/poisoning'"
   ]
  },
  {
   "cell_type": "code",
   "execution_count": 44,
   "metadata": {},
   "outputs": [
    {
     "data": {
      "image/png": "[encoded data removed]",
      "text/plain": [
       "<Figure size 1440x720 with 1 Axes>"
      ]
     },
     "metadata": {
      "needs_background": "light"
     },
     "output_type": "display_data"
    }
   ],
   "source": [
    "fig, ax = plt.subplots(1, 1, figsize=(20, 10))\n",
    "\n",
    "sns.countplot(x=df['diagnosis'], hue=hue, ax=ax)\n",
    "_ = plt.xticks(rotation=90)\n",
    "plt.title('Fig 4: XXYY', size=20);"
   ]
  },
  {
   "cell_type": "code",
   "execution_count": null,
   "metadata": {},
   "outputs": [],
   "source": []
  },
  {
   "cell_type": "code",
   "execution_count": null,
   "metadata": {},
   "outputs": [],
   "source": []
  },
  {
   "cell_type": "code",
   "execution_count": null,
   "metadata": {},
   "outputs": [],
   "source": []
  },
  {
   "cell_type": "markdown",
   "metadata": {},
   "source": [
    "# Encode Variables"
   ]
  },
  {
   "cell_type": "code",
   "execution_count": 45,
   "metadata": {},
   "outputs": [],
   "source": [
    "continuous_cols = []\n",
    "\n",
    "for c in df.columns:\n",
    "    if df[c].dtype=='int64':\n",
    "        if 'id' not in c:\n",
    "            continuous_cols.append(c)\n",
    "            \n",
    "categorical_cols = [col for col in df.columns if col not in continuous_cols]\n",
    "df_ohe = pd.get_dummies(data=df, columns=categorical_cols, drop_first=True)"
   ]
  },
  {
   "cell_type": "markdown",
   "metadata": {},
   "source": [
    "# Splitting - Train & Test"
   ]
  },
  {
   "cell_type": "code",
   "execution_count": 46,
   "metadata": {},
   "outputs": [],
   "source": [
    "X_train, X_test, y_train, y_test = train_test_split(df_ohe.drop(['readmitted_YES'], axis=1), \n",
    "                                                    df_ohe['readmitted_YES'],\n",
    "                                                    train_size=.75,\n",
    "                                                    shuffle=True,\n",
    "                                                    random_state=1)"
   ]
  },
  {
   "cell_type": "markdown",
   "metadata": {},
   "source": [
    "# Scaling"
   ]
  },
  {
   "cell_type": "code",
   "execution_count": 47,
   "metadata": {},
   "outputs": [],
   "source": [
    "ct = ColumnTransformer(transformers=[('scaler', StandardScaler(), continuous_cols)],\n",
    "                       remainder='passthrough')"
   ]
  },
  {
   "cell_type": "code",
   "execution_count": 48,
   "metadata": {},
   "outputs": [
    {
     "data": {
      "text/html": [
       "<div>\n",
       "<style scoped>\n",
       "    .dataframe tbody tr th:only-of-type {\n",
       "        vertical-align: middle;\n",
       "    }\n",
       "\n",
       "    .dataframe tbody tr th {\n",
       "        vertical-align: top;\n",
       "    }\n",
       "\n",
       "    .dataframe thead th {\n",
       "        text-align: right;\n",
       "    }\n",
       "</style>\n",
       "<table border=\"1\" class=\"dataframe\">\n",
       "  <thead>\n",
       "    <tr style=\"text-align: right;\">\n",
       "      <th></th>\n",
       "      <th>time_in_hospital</th>\n",
       "      <th>num_lab_procedures</th>\n",
       "      <th>num_procedures</th>\n",
       "      <th>num_medications</th>\n",
       "      <th>number_outpatient</th>\n",
       "      <th>number_emergency</th>\n",
       "      <th>number_inpatient</th>\n",
       "      <th>number_diagnoses</th>\n",
       "      <th>race_Asian</th>\n",
       "      <th>race_Caucasian</th>\n",
       "      <th>...</th>\n",
       "      <th>insulin_Up</th>\n",
       "      <th>glyburide-metformin_No</th>\n",
       "      <th>glyburide-metformin_Steady</th>\n",
       "      <th>glyburide-metformin_Up</th>\n",
       "      <th>glipizide-metformin_Steady</th>\n",
       "      <th>glimepiride-pioglitazone_Steady</th>\n",
       "      <th>metformin-rosiglitazone_Steady</th>\n",
       "      <th>metformin-pioglitazone_Steady</th>\n",
       "      <th>change_No</th>\n",
       "      <th>diabetesMed_Yes</th>\n",
       "    </tr>\n",
       "  </thead>\n",
       "  <tbody>\n",
       "    <tr>\n",
       "      <th>0</th>\n",
       "      <td>2.22</td>\n",
       "      <td>0.40</td>\n",
       "      <td>-0.20</td>\n",
       "      <td>-0.50</td>\n",
       "      <td>-0.29</td>\n",
       "      <td>-0.21</td>\n",
       "      <td>0.29</td>\n",
       "      <td>0.30</td>\n",
       "      <td>0.00</td>\n",
       "      <td>1.00</td>\n",
       "      <td>...</td>\n",
       "      <td>0.00</td>\n",
       "      <td>1.00</td>\n",
       "      <td>0.00</td>\n",
       "      <td>0.00</td>\n",
       "      <td>0.00</td>\n",
       "      <td>0.00</td>\n",
       "      <td>0.00</td>\n",
       "      <td>0.00</td>\n",
       "      <td>1.00</td>\n",
       "      <td>1.00</td>\n",
       "    </tr>\n",
       "    <tr>\n",
       "      <th>1</th>\n",
       "      <td>-0.47</td>\n",
       "      <td>-1.43</td>\n",
       "      <td>-0.78</td>\n",
       "      <td>-0.86</td>\n",
       "      <td>1.27</td>\n",
       "      <td>-0.21</td>\n",
       "      <td>1.08</td>\n",
       "      <td>-1.25</td>\n",
       "      <td>0.00</td>\n",
       "      <td>1.00</td>\n",
       "      <td>...</td>\n",
       "      <td>0.00</td>\n",
       "      <td>1.00</td>\n",
       "      <td>0.00</td>\n",
       "      <td>0.00</td>\n",
       "      <td>0.00</td>\n",
       "      <td>0.00</td>\n",
       "      <td>0.00</td>\n",
       "      <td>0.00</td>\n",
       "      <td>1.00</td>\n",
       "      <td>0.00</td>\n",
       "    </tr>\n",
       "    <tr>\n",
       "      <th>2</th>\n",
       "      <td>-0.47</td>\n",
       "      <td>0.60</td>\n",
       "      <td>-0.78</td>\n",
       "      <td>-0.50</td>\n",
       "      <td>-0.29</td>\n",
       "      <td>-0.21</td>\n",
       "      <td>-0.50</td>\n",
       "      <td>0.82</td>\n",
       "      <td>0.00</td>\n",
       "      <td>1.00</td>\n",
       "      <td>...</td>\n",
       "      <td>0.00</td>\n",
       "      <td>1.00</td>\n",
       "      <td>0.00</td>\n",
       "      <td>0.00</td>\n",
       "      <td>0.00</td>\n",
       "      <td>0.00</td>\n",
       "      <td>0.00</td>\n",
       "      <td>0.00</td>\n",
       "      <td>0.00</td>\n",
       "      <td>1.00</td>\n",
       "    </tr>\n",
       "    <tr>\n",
       "      <th>3</th>\n",
       "      <td>-1.14</td>\n",
       "      <td>-1.03</td>\n",
       "      <td>0.39</td>\n",
       "      <td>-1.85</td>\n",
       "      <td>-0.29</td>\n",
       "      <td>-0.21</td>\n",
       "      <td>-0.50</td>\n",
       "      <td>-1.25</td>\n",
       "      <td>0.00</td>\n",
       "      <td>1.00</td>\n",
       "      <td>...</td>\n",
       "      <td>0.00</td>\n",
       "      <td>1.00</td>\n",
       "      <td>0.00</td>\n",
       "      <td>0.00</td>\n",
       "      <td>0.00</td>\n",
       "      <td>0.00</td>\n",
       "      <td>0.00</td>\n",
       "      <td>0.00</td>\n",
       "      <td>1.00</td>\n",
       "      <td>0.00</td>\n",
       "    </tr>\n",
       "    <tr>\n",
       "      <th>4</th>\n",
       "      <td>-0.13</td>\n",
       "      <td>-0.06</td>\n",
       "      <td>-0.78</td>\n",
       "      <td>-0.62</td>\n",
       "      <td>2.05</td>\n",
       "      <td>-0.21</td>\n",
       "      <td>-0.50</td>\n",
       "      <td>-1.25</td>\n",
       "      <td>0.00</td>\n",
       "      <td>1.00</td>\n",
       "      <td>...</td>\n",
       "      <td>0.00</td>\n",
       "      <td>1.00</td>\n",
       "      <td>0.00</td>\n",
       "      <td>0.00</td>\n",
       "      <td>0.00</td>\n",
       "      <td>0.00</td>\n",
       "      <td>0.00</td>\n",
       "      <td>0.00</td>\n",
       "      <td>0.00</td>\n",
       "      <td>1.00</td>\n",
       "    </tr>\n",
       "  </tbody>\n",
       "</table>\n",
       "<p>5 rows × 144 columns</p>\n",
       "</div>"
      ],
      "text/plain": [
       "   time_in_hospital  num_lab_procedures  num_procedures  num_medications  \\\n",
       "0              2.22                0.40           -0.20            -0.50   \n",
       "1             -0.47               -1.43           -0.78            -0.86   \n",
       "2             -0.47                0.60           -0.78            -0.50   \n",
       "3             -1.14               -1.03            0.39            -1.85   \n",
       "4             -0.13               -0.06           -0.78            -0.62   \n",
       "\n",
       "   number_outpatient  number_emergency  number_inpatient  number_diagnoses  \\\n",
       "0              -0.29             -0.21              0.29              0.30   \n",
       "1               1.27             -0.21              1.08             -1.25   \n",
       "2              -0.29             -0.21             -0.50              0.82   \n",
       "3              -0.29             -0.21             -0.50             -1.25   \n",
       "4               2.05             -0.21             -0.50             -1.25   \n",
       "\n",
       "   race_Asian  race_Caucasian  ...  insulin_Up  glyburide-metformin_No  \\\n",
       "0        0.00            1.00  ...        0.00                    1.00   \n",
       "1        0.00            1.00  ...        0.00                    1.00   \n",
       "2        0.00            1.00  ...        0.00                    1.00   \n",
       "3        0.00            1.00  ...        0.00                    1.00   \n",
       "4        0.00            1.00  ...        0.00                    1.00   \n",
       "\n",
       "   glyburide-metformin_Steady  glyburide-metformin_Up  \\\n",
       "0                        0.00                    0.00   \n",
       "1                        0.00                    0.00   \n",
       "2                        0.00                    0.00   \n",
       "3                        0.00                    0.00   \n",
       "4                        0.00                    0.00   \n",
       "\n",
       "   glipizide-metformin_Steady  glimepiride-pioglitazone_Steady  \\\n",
       "0                        0.00                             0.00   \n",
       "1                        0.00                             0.00   \n",
       "2                        0.00                             0.00   \n",
       "3                        0.00                             0.00   \n",
       "4                        0.00                             0.00   \n",
       "\n",
       "   metformin-rosiglitazone_Steady  metformin-pioglitazone_Steady  change_No  \\\n",
       "0                            0.00                           0.00       1.00   \n",
       "1                            0.00                           0.00       1.00   \n",
       "2                            0.00                           0.00       0.00   \n",
       "3                            0.00                           0.00       1.00   \n",
       "4                            0.00                           0.00       0.00   \n",
       "\n",
       "   diabetesMed_Yes  \n",
       "0             1.00  \n",
       "1             0.00  \n",
       "2             1.00  \n",
       "3             0.00  \n",
       "4             1.00  \n",
       "\n",
       "[5 rows x 144 columns]"
      ]
     },
     "execution_count": 48,
     "metadata": {},
     "output_type": "execute_result"
    }
   ],
   "source": [
    "X_train = pd.DataFrame(ct.fit_transform(X_train),\n",
    "                       columns=X_train.columns)\n",
    "X_train.head()"
   ]
  },
  {
   "cell_type": "markdown",
   "metadata": {},
   "source": [
    "# Analysis"
   ]
  },
  {
   "cell_type": "code",
   "execution_count": 49,
   "metadata": {},
   "outputs": [],
   "source": [
    "scores = {} # create empty dict to store models and cross validation best scores\n",
    "\n",
    "def results(estimator):\n",
    "    \"\"\"\n",
    "    1. Adds fitted model and best score from RandomizedSearchCV to scores dictionary.\n",
    "    2. Prints fitted model best parameters and best score\n",
    "    \"\"\"\n",
    "    scores[estimator] = estimator.best_score_ # add fitted model and .best_score_ to models dictionary\n",
    "    return print(f'Best params: {estimator.best_params_}'+ f'\\nBest estimator score: {estimator.best_score_}')"
   ]
  },
  {
   "cell_type": "code",
   "execution_count": 50,
   "metadata": {},
   "outputs": [],
   "source": [
    "# def results(estimator):\n",
    "#     \"\"\"\n",
    "#     1. Adds fitted model and best score from RandomizedSearchCV to scores dictionary. If scores dictionary doesn't exist, \n",
    "#        it creates an empty dictionary named scores.\n",
    "#     2. Prints fitted model best parameters and best score.\n",
    "#     \"\"\"\n",
    "    \n",
    "#     try:\n",
    "#         scores\n",
    "#     except NameError:\n",
    "#         scores={}\n",
    "#         scores[estimator] = estimator.best_score_ # add fitted model and .best_score_ to models dictionary\n",
    "#         return print(f'Best params: {estimator.best_params_}'+ f'\\nBest estimator score: {estimator.best_score_}')\n",
    "#     else:\n",
    "#         scores[estimator] = estimator.best_score_ # add fitted model and .best_score_ to models dictionary\n",
    "#         return print(f'Best params: {estimator.best_params_}'+ f'\\nBest estimator score: {estimator.best_score_}')"
   ]
  },
  {
   "cell_type": "code",
   "execution_count": 51,
   "metadata": {
    "scrolled": true
   },
   "outputs": [
    {
     "name": "stderr",
     "output_type": "stream",
     "text": [
      "C:\\ProgramData\\Anaconda3\\lib\\site-packages\\sklearn\\model_selection\\_search.py:278: UserWarning: The total space of parameters 9 is smaller than n_iter=10. Running 9 iterations. For exhaustive searches, use GridSearchCV.\n",
      "  warnings.warn(\n",
      "[Parallel(n_jobs=-1)]: Using backend LokyBackend with 12 concurrent workers.\n"
     ]
    },
    {
     "name": "stdout",
     "output_type": "stream",
     "text": [
      "Fitting 5 folds for each of 9 candidates, totalling 45 fits\n"
     ]
    },
    {
     "name": "stderr",
     "output_type": "stream",
     "text": [
      "[Parallel(n_jobs=-1)]: Done  45 out of  45 | elapsed:   24.8s finished\n"
     ]
    },
    {
     "name": "stdout",
     "output_type": "stream",
     "text": [
      "Best params: {'C': 1}\n",
      "Best estimator score: 0.635160589714485\n"
     ]
    },
    {
     "name": "stderr",
     "output_type": "stream",
     "text": [
      "C:\\ProgramData\\Anaconda3\\lib\\site-packages\\sklearn\\linear_model\\_logistic.py:762: ConvergenceWarning: lbfgs failed to converge (status=1):\n",
      "STOP: TOTAL NO. of ITERATIONS REACHED LIMIT.\n",
      "\n",
      "Increase the number of iterations (max_iter) or scale the data as shown in:\n",
      "    https://scikit-learn.org/stable/modules/preprocessing.html\n",
      "Please also refer to the documentation for alternative solver options:\n",
      "    https://scikit-learn.org/stable/modules/linear_model.html#logistic-regression\n",
      "  n_iter_i = _check_optimize_result(\n"
     ]
    }
   ],
   "source": [
    "# Logistic Regression, no regularization\n",
    "params = {'C':list(range(1, 10))}\n",
    "logistic = RandomizedSearchCV(LogisticRegression(penalty='none',\n",
    "                                                 solver='lbfgs'), \n",
    "                              param_distributions=params, \n",
    "                              n_jobs=-1, \n",
    "                              cv=5,\n",
    "                              verbose=1)\n",
    "logistic.fit(X_train, y_train)\n",
    "results(logistic)"
   ]
  },
  {
   "cell_type": "code",
   "execution_count": null,
   "metadata": {
    "scrolled": true
   },
   "outputs": [],
   "source": []
  },
  {
   "cell_type": "code",
   "execution_count": null,
   "metadata": {},
   "outputs": [],
   "source": []
  },
  {
   "cell_type": "code",
   "execution_count": null,
   "metadata": {},
   "outputs": [],
   "source": []
  },
  {
   "cell_type": "code",
   "execution_count": null,
   "metadata": {},
   "outputs": [],
   "source": []
  },
  {
   "cell_type": "code",
   "execution_count": null,
   "metadata": {},
   "outputs": [],
   "source": []
  },
  {
   "cell_type": "code",
   "execution_count": null,
   "metadata": {
    "scrolled": true
   },
   "outputs": [],
   "source": []
  },
  {
   "cell_type": "code",
   "execution_count": null,
   "metadata": {},
   "outputs": [],
   "source": []
  },
  {
   "cell_type": "code",
   "execution_count": null,
   "metadata": {},
   "outputs": [],
   "source": []
  },
  {
   "cell_type": "code",
   "execution_count": null,
   "metadata": {},
   "outputs": [],
   "source": []
  },
  {
   "cell_type": "code",
   "execution_count": null,
   "metadata": {},
   "outputs": [],
   "source": []
  },
  {
   "cell_type": "code",
   "execution_count": null,
   "metadata": {},
   "outputs": [],
   "source": []
  },
  {
   "cell_type": "code",
   "execution_count": null,
   "metadata": {},
   "outputs": [],
   "source": []
  },
  {
   "cell_type": "code",
   "execution_count": null,
   "metadata": {},
   "outputs": [],
   "source": []
  },
  {
   "cell_type": "code",
   "execution_count": null,
   "metadata": {},
   "outputs": [],
   "source": []
  },
  {
   "cell_type": "code",
   "execution_count": null,
   "metadata": {},
   "outputs": [],
   "source": []
  },
  {
   "cell_type": "code",
   "execution_count": null,
   "metadata": {},
   "outputs": [],
   "source": []
  },
  {
   "cell_type": "code",
   "execution_count": null,
   "metadata": {},
   "outputs": [],
   "source": []
  },
  {
   "cell_type": "code",
   "execution_count": null,
   "metadata": {},
   "outputs": [],
   "source": []
  },
  {
   "cell_type": "code",
   "execution_count": null,
   "metadata": {},
   "outputs": [],
   "source": []
  },
  {
   "cell_type": "code",
   "execution_count": null,
   "metadata": {},
   "outputs": [],
   "source": []
  },
  {
   "cell_type": "code",
   "execution_count": null,
   "metadata": {},
   "outputs": [],
   "source": []
  },
  {
   "cell_type": "code",
   "execution_count": null,
   "metadata": {},
   "outputs": [],
   "source": []
  },
  {
   "cell_type": "code",
   "execution_count": null,
   "metadata": {},
   "outputs": [],
   "source": []
  },
  {
   "cell_type": "code",
   "execution_count": null,
   "metadata": {},
   "outputs": [],
   "source": []
  },
  {
   "cell_type": "code",
   "execution_count": null,
   "metadata": {},
   "outputs": [],
   "source": []
  },
  {
   "cell_type": "code",
   "execution_count": null,
   "metadata": {},
   "outputs": [],
   "source": []
  },
  {
   "cell_type": "code",
   "execution_count": null,
   "metadata": {},
   "outputs": [],
   "source": []
  },
  {
   "cell_type": "code",
   "execution_count": null,
   "metadata": {},
   "outputs": [],
   "source": []
  },
  {
   "cell_type": "code",
   "execution_count": null,
   "metadata": {},
   "outputs": [],
   "source": []
  },
  {
   "cell_type": "code",
   "execution_count": null,
   "metadata": {},
   "outputs": [],
   "source": []
  },
  {
   "cell_type": "code",
   "execution_count": null,
   "metadata": {},
   "outputs": [],
   "source": []
  },
  {
   "cell_type": "code",
   "execution_count": null,
   "metadata": {},
   "outputs": [],
   "source": []
  },
  {
   "cell_type": "code",
   "execution_count": null,
   "metadata": {},
   "outputs": [],
   "source": []
  },
  {
   "cell_type": "code",
   "execution_count": null,
   "metadata": {},
   "outputs": [],
   "source": []
  },
  {
   "cell_type": "code",
   "execution_count": null,
   "metadata": {},
   "outputs": [],
   "source": []
  }
 ],
 "metadata": {
  "kernelspec": {
   "display_name": "Python 3",
   "language": "python",
   "name": "python3"
  },
  "language_info": {
   "codemirror_mode": {
    "name": "ipython",
    "version": 3
   },
   "file_extension": ".py",
   "mimetype": "text/x-python",
   "name": "python",
   "nbconvert_exporter": "python",
   "pygments_lexer": "ipython3",
   "version": "3.8.5"
  }
 },
 "nbformat": 4,
 "nbformat_minor": 4
}
